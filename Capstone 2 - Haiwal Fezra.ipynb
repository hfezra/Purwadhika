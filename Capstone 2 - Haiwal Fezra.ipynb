{
 "cells": [
  {
   "cell_type": "markdown",
   "id": "ef3ff741",
   "metadata": {},
   "source": [
    "# Purwadhika Data Science & Machine Learning\n",
    "# Capstone 2 - NYC TLC Trip Record\n",
    "## by Haiwal Fezra\n"
   ]
  },
  {
   "cell_type": "markdown",
   "id": "255de942",
   "metadata": {},
   "source": [
    "# Latar Belakang\n",
    "**Taksi** merupakan salah satu moda transportasi umum yang sudah menjadi bagian dari kehidupan untuk banyak warga Kota New York. Penggunaan Taksi pada Kota New York sudah menjadi pilihan yang cepat dan ringkas untuk mencapai berbagai bagian Kota New York. Penyedia jasa Taksi New York meminta pada Data Analyst Purwadhika untuk melihat frekuensi dan kebiasaan pemakaian taksi warga New York."
   ]
  },
  {
   "cell_type": "markdown",
   "id": "de6f9d0a",
   "metadata": {},
   "source": [
    "## Perumusan Masalah\n",
    "Penyedia Jasa Taksi ingin mengetahui **Hari sibuk dan Jam Sibuk penggunaan Taksi dan bagian kota mana yang menggunakan Taksi paling banyak**, guna mengefisiensikan pengemudi taksi, untuk di kirimkan pada waktu dan tempat yang strategis.\n",
    "\n",
    "Maka pertanyaan besar yang harus dijawab oleh Data Analyst Purwadhika adalah:\n",
    "\n",
    "***\n",
    "**1. Kapan Taksi paling banyak digunakan?**\n",
    "\n",
    "**2. Di daerah mana Taksi paling banyak digunakan?**\n",
    "\n",
    "**3. Berapa rata-rata Pendapatan taksi per daerah?**\n",
    "***"
   ]
  },
  {
   "cell_type": "markdown",
   "id": "8b52d5fd",
   "metadata": {},
   "source": [
    "## Goal\n",
    "dan untuk tujuan dari analisis ini ialah:\n",
    "\n",
    "***\n",
    "**1. Meningkatkan penggunaan taksi sebagai moda transportasi umum Kota New York**\n",
    "\n",
    "**2. Mengetahui target pemasaran berikut secara tepat**\n",
    "\n",
    "***"
   ]
  },
  {
   "cell_type": "markdown",
   "id": "8f5fc7db",
   "metadata": {},
   "source": [
    "# Data\n",
    "Untuk menjawab permasalahan diatas, kita akan menganalisa data yang sudah dikumpulkan oleh Penyedia jasa Taksi, yang dapat diakses pada [link](https://drive.google.com/drive/folders/1NYHIL-RgVPW-HONz4pdzlcbIChF-c37N?usp=sharing) berikut.\n"
   ]
  },
  {
   "cell_type": "code",
   "execution_count": 5,
   "id": "339b501c",
   "metadata": {},
   "outputs": [],
   "source": [
    "import pandas as pd\n",
    "import numpy as np\n",
    "import matplotlib.pyplot as plt\n",
    "%matplotlib inline\n",
    "import seaborn as sns\n",
    "import plotly.express as px\n",
    "\n",
    "from sklearn.impute import SimpleImputer\n",
    "\n",
    "import warnings\n",
    "warnings.filterwarnings(\"ignore\")"
   ]
  },
  {
   "cell_type": "code",
   "execution_count": 6,
   "id": "f4da6bd4",
   "metadata": {},
   "outputs": [
    {
     "data": {
      "text/html": [
       "<div>\n",
       "<style scoped>\n",
       "    .dataframe tbody tr th:only-of-type {\n",
       "        vertical-align: middle;\n",
       "    }\n",
       "\n",
       "    .dataframe tbody tr th {\n",
       "        vertical-align: top;\n",
       "    }\n",
       "\n",
       "    .dataframe thead th {\n",
       "        text-align: right;\n",
       "    }\n",
       "</style>\n",
       "<table border=\"1\" class=\"dataframe\">\n",
       "  <thead>\n",
       "    <tr style=\"text-align: right;\">\n",
       "      <th></th>\n",
       "      <th>VendorID</th>\n",
       "      <th>lpep_pickup_datetime</th>\n",
       "      <th>lpep_dropoff_datetime</th>\n",
       "      <th>store_and_fwd_flag</th>\n",
       "      <th>RatecodeID</th>\n",
       "      <th>PULocationID</th>\n",
       "      <th>DOLocationID</th>\n",
       "      <th>passenger_count</th>\n",
       "      <th>trip_distance</th>\n",
       "      <th>fare_amount</th>\n",
       "      <th>extra</th>\n",
       "      <th>mta_tax</th>\n",
       "      <th>tip_amount</th>\n",
       "      <th>tolls_amount</th>\n",
       "      <th>ehail_fee</th>\n",
       "      <th>improvement_surcharge</th>\n",
       "      <th>total_amount</th>\n",
       "      <th>payment_type</th>\n",
       "      <th>trip_type</th>\n",
       "      <th>congestion_surcharge</th>\n",
       "    </tr>\n",
       "  </thead>\n",
       "  <tbody>\n",
       "    <tr>\n",
       "      <th>0</th>\n",
       "      <td>2</td>\n",
       "      <td>2023-01-01 00:26:10</td>\n",
       "      <td>2023-01-01 00:37:11</td>\n",
       "      <td>N</td>\n",
       "      <td>1.0</td>\n",
       "      <td>166</td>\n",
       "      <td>143</td>\n",
       "      <td>1.0</td>\n",
       "      <td>2.58</td>\n",
       "      <td>14.9</td>\n",
       "      <td>1.0</td>\n",
       "      <td>0.5</td>\n",
       "      <td>4.03</td>\n",
       "      <td>0.0</td>\n",
       "      <td>NaN</td>\n",
       "      <td>1.0</td>\n",
       "      <td>24.18</td>\n",
       "      <td>1.0</td>\n",
       "      <td>1.0</td>\n",
       "      <td>2.75</td>\n",
       "    </tr>\n",
       "    <tr>\n",
       "      <th>1</th>\n",
       "      <td>2</td>\n",
       "      <td>2023-01-01 00:51:03</td>\n",
       "      <td>2023-01-01 00:57:49</td>\n",
       "      <td>N</td>\n",
       "      <td>1.0</td>\n",
       "      <td>24</td>\n",
       "      <td>43</td>\n",
       "      <td>1.0</td>\n",
       "      <td>1.81</td>\n",
       "      <td>10.7</td>\n",
       "      <td>1.0</td>\n",
       "      <td>0.5</td>\n",
       "      <td>2.64</td>\n",
       "      <td>0.0</td>\n",
       "      <td>NaN</td>\n",
       "      <td>1.0</td>\n",
       "      <td>15.84</td>\n",
       "      <td>1.0</td>\n",
       "      <td>1.0</td>\n",
       "      <td>0.00</td>\n",
       "    </tr>\n",
       "    <tr>\n",
       "      <th>2</th>\n",
       "      <td>2</td>\n",
       "      <td>2023-01-01 00:35:12</td>\n",
       "      <td>2023-01-01 00:41:32</td>\n",
       "      <td>N</td>\n",
       "      <td>1.0</td>\n",
       "      <td>223</td>\n",
       "      <td>179</td>\n",
       "      <td>1.0</td>\n",
       "      <td>0.00</td>\n",
       "      <td>7.2</td>\n",
       "      <td>1.0</td>\n",
       "      <td>0.5</td>\n",
       "      <td>1.94</td>\n",
       "      <td>0.0</td>\n",
       "      <td>NaN</td>\n",
       "      <td>1.0</td>\n",
       "      <td>11.64</td>\n",
       "      <td>1.0</td>\n",
       "      <td>1.0</td>\n",
       "      <td>0.00</td>\n",
       "    </tr>\n",
       "    <tr>\n",
       "      <th>3</th>\n",
       "      <td>1</td>\n",
       "      <td>2023-01-01 00:13:14</td>\n",
       "      <td>2023-01-01 00:19:03</td>\n",
       "      <td>N</td>\n",
       "      <td>1.0</td>\n",
       "      <td>41</td>\n",
       "      <td>238</td>\n",
       "      <td>1.0</td>\n",
       "      <td>1.30</td>\n",
       "      <td>6.5</td>\n",
       "      <td>0.5</td>\n",
       "      <td>1.5</td>\n",
       "      <td>1.70</td>\n",
       "      <td>0.0</td>\n",
       "      <td>NaN</td>\n",
       "      <td>1.0</td>\n",
       "      <td>10.20</td>\n",
       "      <td>1.0</td>\n",
       "      <td>1.0</td>\n",
       "      <td>0.00</td>\n",
       "    </tr>\n",
       "    <tr>\n",
       "      <th>4</th>\n",
       "      <td>1</td>\n",
       "      <td>2023-01-01 00:33:04</td>\n",
       "      <td>2023-01-01 00:39:02</td>\n",
       "      <td>N</td>\n",
       "      <td>1.0</td>\n",
       "      <td>41</td>\n",
       "      <td>74</td>\n",
       "      <td>1.0</td>\n",
       "      <td>1.10</td>\n",
       "      <td>6.0</td>\n",
       "      <td>0.5</td>\n",
       "      <td>1.5</td>\n",
       "      <td>0.00</td>\n",
       "      <td>0.0</td>\n",
       "      <td>NaN</td>\n",
       "      <td>1.0</td>\n",
       "      <td>8.00</td>\n",
       "      <td>1.0</td>\n",
       "      <td>1.0</td>\n",
       "      <td>0.00</td>\n",
       "    </tr>\n",
       "  </tbody>\n",
       "</table>\n",
       "</div>"
      ],
      "text/plain": [
       "   VendorID lpep_pickup_datetime lpep_dropoff_datetime store_and_fwd_flag  \\\n",
       "0         2  2023-01-01 00:26:10   2023-01-01 00:37:11                  N   \n",
       "1         2  2023-01-01 00:51:03   2023-01-01 00:57:49                  N   \n",
       "2         2  2023-01-01 00:35:12   2023-01-01 00:41:32                  N   \n",
       "3         1  2023-01-01 00:13:14   2023-01-01 00:19:03                  N   \n",
       "4         1  2023-01-01 00:33:04   2023-01-01 00:39:02                  N   \n",
       "\n",
       "   RatecodeID  PULocationID  DOLocationID  passenger_count  trip_distance  \\\n",
       "0         1.0           166           143              1.0           2.58   \n",
       "1         1.0            24            43              1.0           1.81   \n",
       "2         1.0           223           179              1.0           0.00   \n",
       "3         1.0            41           238              1.0           1.30   \n",
       "4         1.0            41            74              1.0           1.10   \n",
       "\n",
       "   fare_amount  extra  mta_tax  tip_amount  tolls_amount  ehail_fee  \\\n",
       "0         14.9    1.0      0.5        4.03           0.0        NaN   \n",
       "1         10.7    1.0      0.5        2.64           0.0        NaN   \n",
       "2          7.2    1.0      0.5        1.94           0.0        NaN   \n",
       "3          6.5    0.5      1.5        1.70           0.0        NaN   \n",
       "4          6.0    0.5      1.5        0.00           0.0        NaN   \n",
       "\n",
       "   improvement_surcharge  total_amount  payment_type  trip_type  \\\n",
       "0                    1.0         24.18           1.0        1.0   \n",
       "1                    1.0         15.84           1.0        1.0   \n",
       "2                    1.0         11.64           1.0        1.0   \n",
       "3                    1.0         10.20           1.0        1.0   \n",
       "4                    1.0          8.00           1.0        1.0   \n",
       "\n",
       "   congestion_surcharge  \n",
       "0                  2.75  \n",
       "1                  0.00  \n",
       "2                  0.00  \n",
       "3                  0.00  \n",
       "4                  0.00  "
      ]
     },
     "metadata": {},
     "output_type": "display_data"
    },
    {
     "data": {
      "text/html": [
       "<div>\n",
       "<style scoped>\n",
       "    .dataframe tbody tr th:only-of-type {\n",
       "        vertical-align: middle;\n",
       "    }\n",
       "\n",
       "    .dataframe tbody tr th {\n",
       "        vertical-align: top;\n",
       "    }\n",
       "\n",
       "    .dataframe thead th {\n",
       "        text-align: right;\n",
       "    }\n",
       "</style>\n",
       "<table border=\"1\" class=\"dataframe\">\n",
       "  <thead>\n",
       "    <tr style=\"text-align: right;\">\n",
       "      <th></th>\n",
       "      <th>VendorID</th>\n",
       "      <th>lpep_pickup_datetime</th>\n",
       "      <th>lpep_dropoff_datetime</th>\n",
       "      <th>store_and_fwd_flag</th>\n",
       "      <th>RatecodeID</th>\n",
       "      <th>PULocationID</th>\n",
       "      <th>DOLocationID</th>\n",
       "      <th>passenger_count</th>\n",
       "      <th>trip_distance</th>\n",
       "      <th>fare_amount</th>\n",
       "      <th>extra</th>\n",
       "      <th>mta_tax</th>\n",
       "      <th>tip_amount</th>\n",
       "      <th>tolls_amount</th>\n",
       "      <th>ehail_fee</th>\n",
       "      <th>improvement_surcharge</th>\n",
       "      <th>total_amount</th>\n",
       "      <th>payment_type</th>\n",
       "      <th>trip_type</th>\n",
       "      <th>congestion_surcharge</th>\n",
       "    </tr>\n",
       "  </thead>\n",
       "  <tbody>\n",
       "    <tr>\n",
       "      <th>68206</th>\n",
       "      <td>2</td>\n",
       "      <td>2023-01-31 22:29:00</td>\n",
       "      <td>2023-01-31 22:42:00</td>\n",
       "      <td>NaN</td>\n",
       "      <td>NaN</td>\n",
       "      <td>49</td>\n",
       "      <td>62</td>\n",
       "      <td>NaN</td>\n",
       "      <td>4070.82</td>\n",
       "      <td>15.70</td>\n",
       "      <td>0.0</td>\n",
       "      <td>0.0</td>\n",
       "      <td>0.00</td>\n",
       "      <td>0.0</td>\n",
       "      <td>NaN</td>\n",
       "      <td>1.0</td>\n",
       "      <td>16.70</td>\n",
       "      <td>NaN</td>\n",
       "      <td>NaN</td>\n",
       "      <td>NaN</td>\n",
       "    </tr>\n",
       "    <tr>\n",
       "      <th>68207</th>\n",
       "      <td>2</td>\n",
       "      <td>2023-01-31 22:40:00</td>\n",
       "      <td>2023-01-31 22:48:00</td>\n",
       "      <td>NaN</td>\n",
       "      <td>NaN</td>\n",
       "      <td>10</td>\n",
       "      <td>205</td>\n",
       "      <td>NaN</td>\n",
       "      <td>2.14</td>\n",
       "      <td>4.41</td>\n",
       "      <td>0.0</td>\n",
       "      <td>0.0</td>\n",
       "      <td>0.00</td>\n",
       "      <td>0.0</td>\n",
       "      <td>NaN</td>\n",
       "      <td>1.0</td>\n",
       "      <td>5.41</td>\n",
       "      <td>NaN</td>\n",
       "      <td>NaN</td>\n",
       "      <td>NaN</td>\n",
       "    </tr>\n",
       "    <tr>\n",
       "      <th>68208</th>\n",
       "      <td>2</td>\n",
       "      <td>2023-01-31 23:46:00</td>\n",
       "      <td>2023-02-01 00:02:00</td>\n",
       "      <td>NaN</td>\n",
       "      <td>NaN</td>\n",
       "      <td>66</td>\n",
       "      <td>37</td>\n",
       "      <td>NaN</td>\n",
       "      <td>3.44</td>\n",
       "      <td>16.53</td>\n",
       "      <td>0.0</td>\n",
       "      <td>0.0</td>\n",
       "      <td>3.51</td>\n",
       "      <td>0.0</td>\n",
       "      <td>NaN</td>\n",
       "      <td>1.0</td>\n",
       "      <td>21.04</td>\n",
       "      <td>NaN</td>\n",
       "      <td>NaN</td>\n",
       "      <td>NaN</td>\n",
       "    </tr>\n",
       "    <tr>\n",
       "      <th>68209</th>\n",
       "      <td>2</td>\n",
       "      <td>2023-01-31 23:01:00</td>\n",
       "      <td>2023-01-31 23:19:00</td>\n",
       "      <td>NaN</td>\n",
       "      <td>NaN</td>\n",
       "      <td>225</td>\n",
       "      <td>189</td>\n",
       "      <td>NaN</td>\n",
       "      <td>3.03</td>\n",
       "      <td>14.98</td>\n",
       "      <td>0.0</td>\n",
       "      <td>0.0</td>\n",
       "      <td>3.20</td>\n",
       "      <td>0.0</td>\n",
       "      <td>NaN</td>\n",
       "      <td>1.0</td>\n",
       "      <td>19.18</td>\n",
       "      <td>NaN</td>\n",
       "      <td>NaN</td>\n",
       "      <td>NaN</td>\n",
       "    </tr>\n",
       "    <tr>\n",
       "      <th>68210</th>\n",
       "      <td>2</td>\n",
       "      <td>2023-01-31 23:51:00</td>\n",
       "      <td>2023-02-01 00:07:00</td>\n",
       "      <td>NaN</td>\n",
       "      <td>NaN</td>\n",
       "      <td>256</td>\n",
       "      <td>140</td>\n",
       "      <td>NaN</td>\n",
       "      <td>5.82</td>\n",
       "      <td>23.65</td>\n",
       "      <td>0.0</td>\n",
       "      <td>0.0</td>\n",
       "      <td>2.00</td>\n",
       "      <td>0.0</td>\n",
       "      <td>NaN</td>\n",
       "      <td>1.0</td>\n",
       "      <td>29.40</td>\n",
       "      <td>NaN</td>\n",
       "      <td>NaN</td>\n",
       "      <td>NaN</td>\n",
       "    </tr>\n",
       "  </tbody>\n",
       "</table>\n",
       "</div>"
      ],
      "text/plain": [
       "       VendorID lpep_pickup_datetime lpep_dropoff_datetime store_and_fwd_flag  \\\n",
       "68206         2  2023-01-31 22:29:00   2023-01-31 22:42:00                NaN   \n",
       "68207         2  2023-01-31 22:40:00   2023-01-31 22:48:00                NaN   \n",
       "68208         2  2023-01-31 23:46:00   2023-02-01 00:02:00                NaN   \n",
       "68209         2  2023-01-31 23:01:00   2023-01-31 23:19:00                NaN   \n",
       "68210         2  2023-01-31 23:51:00   2023-02-01 00:07:00                NaN   \n",
       "\n",
       "       RatecodeID  PULocationID  DOLocationID  passenger_count  trip_distance  \\\n",
       "68206         NaN            49            62              NaN        4070.82   \n",
       "68207         NaN            10           205              NaN           2.14   \n",
       "68208         NaN            66            37              NaN           3.44   \n",
       "68209         NaN           225           189              NaN           3.03   \n",
       "68210         NaN           256           140              NaN           5.82   \n",
       "\n",
       "       fare_amount  extra  mta_tax  tip_amount  tolls_amount  ehail_fee  \\\n",
       "68206        15.70    0.0      0.0        0.00           0.0        NaN   \n",
       "68207         4.41    0.0      0.0        0.00           0.0        NaN   \n",
       "68208        16.53    0.0      0.0        3.51           0.0        NaN   \n",
       "68209        14.98    0.0      0.0        3.20           0.0        NaN   \n",
       "68210        23.65    0.0      0.0        2.00           0.0        NaN   \n",
       "\n",
       "       improvement_surcharge  total_amount  payment_type  trip_type  \\\n",
       "68206                    1.0         16.70           NaN        NaN   \n",
       "68207                    1.0          5.41           NaN        NaN   \n",
       "68208                    1.0         21.04           NaN        NaN   \n",
       "68209                    1.0         19.18           NaN        NaN   \n",
       "68210                    1.0         29.40           NaN        NaN   \n",
       "\n",
       "       congestion_surcharge  \n",
       "68206                   NaN  \n",
       "68207                   NaN  \n",
       "68208                   NaN  \n",
       "68209                   NaN  \n",
       "68210                   NaN  "
      ]
     },
     "metadata": {},
     "output_type": "display_data"
    }
   ],
   "source": [
    "df=pd.read_csv('NYC TLC Trip Record.csv')\n",
    "display(df.head(),df.tail())"
   ]
  },
  {
   "cell_type": "code",
   "execution_count": 3,
   "id": "9b7b8941",
   "metadata": {},
   "outputs": [
    {
     "data": {
      "text/plain": [
       "Index(['VendorID', 'lpep_pickup_datetime', 'lpep_dropoff_datetime',\n",
       "       'store_and_fwd_flag', 'RatecodeID', 'PULocationID', 'DOLocationID',\n",
       "       'passenger_count', 'trip_distance', 'fare_amount', 'extra', 'mta_tax',\n",
       "       'tip_amount', 'tolls_amount', 'ehail_fee', 'improvement_surcharge',\n",
       "       'total_amount', 'payment_type', 'trip_type', 'congestion_surcharge'],\n",
       "      dtype='object')"
      ]
     },
     "execution_count": 3,
     "metadata": {},
     "output_type": "execute_result"
    }
   ],
   "source": [
    "df.columns"
   ]
  },
  {
   "cell_type": "markdown",
   "id": "4f6da377",
   "metadata": {},
   "source": [
    "Dataset NYC TLC Trip Record berisikan informasi penggunaan taksi selama bulan Januari 2023.\n",
    "\n",
    "Terdapat 20 kolom pada dataset NYC TLC Trip Record, yang dijelaskan pengertiannya sebagai berikut:\n",
    "1. `VendorID` : ID unik untuk setiap penyedia Jasa layanan Taksi\n",
    "1. `lpep_pickup_datetime` : Waktu penjemputan penumpang dalam tanggal dan waktu\n",
    "1. `lpep_dropoff_datetime` : Waktu penurunan penumpang dalam tanggal dan waktu\n",
    "1. `store_and_fwd_flag` : Indikator untuk apakah data perjalanan disimpan pada Taksi terlebih dahulu atau tidak\n",
    "1. `RatecodeID` : ID unik untuk Rate harga perjalanan\n",
    "1. `PULocationID` : ID unik untuk tempat penjemputan penumpang\n",
    "1. `DOLocationID` : ID unik untuk tempat penurunan penumpang\n",
    "1. `passenger_count` : Jumlah penumpang dalam perjalanan\n",
    "1. `trip_distance` : Jumlah jarak perjalanan dalam mil\n",
    "1. `fare_amount` : Jumlah Tarif dasar perjalanan berdasarkan waktu dan jarak perjalanan\n",
    "1. `extra` : Jumlah tambahan tarif selain tarif dasar perjalanan\n",
    "1. `mta_tax` : Jumlah pajak dari Metropolitan Transportation Authority (MTA)\n",
    "1. `tip_amount` : Jumlah tips yang diberikan penumpang ke pengemudi\n",
    "1. `tolls_amount` : Jumlah tarif toll selama perjalanan\n",
    "1. `ehail_fee` : Jumlah tambahan tarif untuk penggunaan aplikasi mobile untuk memanggil taksi\n",
    "1. `improvement_surcharge` : Jumlah tarif yang digunakan untuk mengembangkan industri taksi\n",
    "1. `total_amount` : Jumlah keseluruhan tarif yang dibayarkan oleh penumpang\n",
    "1. `payment_type` : Jenis pembayaran yang dilakukan oleh penumpang\n",
    "1. `trip_type` : Jenis pemanggilan taksi yang dilakukan oleh penumpang\n",
    "1. `congestion_surcharge` : Jumlah tarif yang diberikan ketika Taksi melewati daerah kemacetan di New York"
   ]
  },
  {
   "cell_type": "markdown",
   "id": "3629ed98",
   "metadata": {},
   "source": [
    "## Data Understanding and Cleaning"
   ]
  },
  {
   "cell_type": "code",
   "execution_count": 347,
   "id": "9cb61b62",
   "metadata": {},
   "outputs": [
    {
     "name": "stdout",
     "output_type": "stream",
     "text": [
      "Jumlah baris dan kolom di dataset df adalah (68211, 20)\n",
      "<class 'pandas.core.frame.DataFrame'>\n",
      "RangeIndex: 68211 entries, 0 to 68210\n",
      "Data columns (total 20 columns):\n",
      " #   Column                 Non-Null Count  Dtype  \n",
      "---  ------                 --------------  -----  \n",
      " 0   VendorID               68211 non-null  int64  \n",
      " 1   lpep_pickup_datetime   68211 non-null  object \n",
      " 2   lpep_dropoff_datetime  68211 non-null  object \n",
      " 3   store_and_fwd_flag     63887 non-null  object \n",
      " 4   RatecodeID             63887 non-null  float64\n",
      " 5   PULocationID           68211 non-null  int64  \n",
      " 6   DOLocationID           68211 non-null  int64  \n",
      " 7   passenger_count        63887 non-null  float64\n",
      " 8   trip_distance          68211 non-null  float64\n",
      " 9   fare_amount            68211 non-null  float64\n",
      " 10  extra                  68211 non-null  float64\n",
      " 11  mta_tax                68211 non-null  float64\n",
      " 12  tip_amount             68211 non-null  float64\n",
      " 13  tolls_amount           68211 non-null  float64\n",
      " 14  ehail_fee              0 non-null      float64\n",
      " 15  improvement_surcharge  68211 non-null  float64\n",
      " 16  total_amount           68211 non-null  float64\n",
      " 17  payment_type           63887 non-null  float64\n",
      " 18  trip_type              63877 non-null  float64\n",
      " 19  congestion_surcharge   63887 non-null  float64\n",
      "dtypes: float64(14), int64(3), object(3)\n",
      "memory usage: 10.4+ MB\n"
     ]
    }
   ],
   "source": [
    "print(f'Jumlah baris dan kolom di dataset df adalah {df.shape}')\n",
    "df.info()"
   ]
  },
  {
   "cell_type": "code",
   "execution_count": 245,
   "id": "ed832a97",
   "metadata": {},
   "outputs": [
    {
     "data": {
      "text/html": [
       "<div>\n",
       "<style scoped>\n",
       "    .dataframe tbody tr th:only-of-type {\n",
       "        vertical-align: middle;\n",
       "    }\n",
       "\n",
       "    .dataframe tbody tr th {\n",
       "        vertical-align: top;\n",
       "    }\n",
       "\n",
       "    .dataframe thead th {\n",
       "        text-align: right;\n",
       "    }\n",
       "</style>\n",
       "<table border=\"1\" class=\"dataframe\">\n",
       "  <thead>\n",
       "    <tr style=\"text-align: right;\">\n",
       "      <th></th>\n",
       "      <th>VendorID</th>\n",
       "      <th>RatecodeID</th>\n",
       "      <th>PULocationID</th>\n",
       "      <th>DOLocationID</th>\n",
       "      <th>passenger_count</th>\n",
       "      <th>trip_distance</th>\n",
       "      <th>fare_amount</th>\n",
       "      <th>extra</th>\n",
       "      <th>mta_tax</th>\n",
       "      <th>tip_amount</th>\n",
       "      <th>tolls_amount</th>\n",
       "      <th>ehail_fee</th>\n",
       "      <th>improvement_surcharge</th>\n",
       "      <th>total_amount</th>\n",
       "      <th>payment_type</th>\n",
       "      <th>trip_type</th>\n",
       "      <th>congestion_surcharge</th>\n",
       "    </tr>\n",
       "  </thead>\n",
       "  <tbody>\n",
       "    <tr>\n",
       "      <th>count</th>\n",
       "      <td>68211.000000</td>\n",
       "      <td>63887.000000</td>\n",
       "      <td>68211.000000</td>\n",
       "      <td>68211.000000</td>\n",
       "      <td>63887.000000</td>\n",
       "      <td>68211.000000</td>\n",
       "      <td>68211.000000</td>\n",
       "      <td>68211.000000</td>\n",
       "      <td>68211.000000</td>\n",
       "      <td>68211.000000</td>\n",
       "      <td>68211.000000</td>\n",
       "      <td>0.0</td>\n",
       "      <td>68211.000000</td>\n",
       "      <td>68211.000000</td>\n",
       "      <td>63887.000000</td>\n",
       "      <td>63877.000000</td>\n",
       "      <td>63887.000000</td>\n",
       "    </tr>\n",
       "    <tr>\n",
       "      <th>mean</th>\n",
       "      <td>1.863028</td>\n",
       "      <td>1.117160</td>\n",
       "      <td>98.549735</td>\n",
       "      <td>138.429901</td>\n",
       "      <td>1.315870</td>\n",
       "      <td>8.114852</td>\n",
       "      <td>16.603545</td>\n",
       "      <td>0.825431</td>\n",
       "      <td>0.588340</td>\n",
       "      <td>2.139012</td>\n",
       "      <td>0.169627</td>\n",
       "      <td>NaN</td>\n",
       "      <td>0.951625</td>\n",
       "      <td>21.789377</td>\n",
       "      <td>1.373613</td>\n",
       "      <td>1.021933</td>\n",
       "      <td>0.726748</td>\n",
       "    </tr>\n",
       "    <tr>\n",
       "      <th>std</th>\n",
       "      <td>0.343820</td>\n",
       "      <td>1.372913</td>\n",
       "      <td>61.244314</td>\n",
       "      <td>76.761311</td>\n",
       "      <td>0.979054</td>\n",
       "      <td>585.105955</td>\n",
       "      <td>13.470121</td>\n",
       "      <td>1.269904</td>\n",
       "      <td>0.385819</td>\n",
       "      <td>3.052710</td>\n",
       "      <td>1.099789</td>\n",
       "      <td>NaN</td>\n",
       "      <td>0.196875</td>\n",
       "      <td>15.457115</td>\n",
       "      <td>0.508039</td>\n",
       "      <td>0.146465</td>\n",
       "      <td>1.212836</td>\n",
       "    </tr>\n",
       "    <tr>\n",
       "      <th>min</th>\n",
       "      <td>1.000000</td>\n",
       "      <td>1.000000</td>\n",
       "      <td>1.000000</td>\n",
       "      <td>1.000000</td>\n",
       "      <td>0.000000</td>\n",
       "      <td>0.000000</td>\n",
       "      <td>-70.000000</td>\n",
       "      <td>-2.500000</td>\n",
       "      <td>-0.500000</td>\n",
       "      <td>-10.500000</td>\n",
       "      <td>0.000000</td>\n",
       "      <td>NaN</td>\n",
       "      <td>-1.000000</td>\n",
       "      <td>-71.500000</td>\n",
       "      <td>1.000000</td>\n",
       "      <td>1.000000</td>\n",
       "      <td>-2.750000</td>\n",
       "    </tr>\n",
       "    <tr>\n",
       "      <th>25%</th>\n",
       "      <td>2.000000</td>\n",
       "      <td>1.000000</td>\n",
       "      <td>74.000000</td>\n",
       "      <td>74.000000</td>\n",
       "      <td>1.000000</td>\n",
       "      <td>1.110000</td>\n",
       "      <td>9.300000</td>\n",
       "      <td>0.000000</td>\n",
       "      <td>0.500000</td>\n",
       "      <td>0.000000</td>\n",
       "      <td>0.000000</td>\n",
       "      <td>NaN</td>\n",
       "      <td>1.000000</td>\n",
       "      <td>12.900000</td>\n",
       "      <td>1.000000</td>\n",
       "      <td>1.000000</td>\n",
       "      <td>0.000000</td>\n",
       "    </tr>\n",
       "    <tr>\n",
       "      <th>50%</th>\n",
       "      <td>2.000000</td>\n",
       "      <td>1.000000</td>\n",
       "      <td>75.000000</td>\n",
       "      <td>138.000000</td>\n",
       "      <td>1.000000</td>\n",
       "      <td>1.850000</td>\n",
       "      <td>13.500000</td>\n",
       "      <td>0.000000</td>\n",
       "      <td>0.500000</td>\n",
       "      <td>1.600000</td>\n",
       "      <td>0.000000</td>\n",
       "      <td>NaN</td>\n",
       "      <td>1.000000</td>\n",
       "      <td>17.900000</td>\n",
       "      <td>1.000000</td>\n",
       "      <td>1.000000</td>\n",
       "      <td>0.000000</td>\n",
       "    </tr>\n",
       "    <tr>\n",
       "      <th>75%</th>\n",
       "      <td>2.000000</td>\n",
       "      <td>1.000000</td>\n",
       "      <td>129.000000</td>\n",
       "      <td>219.000000</td>\n",
       "      <td>1.000000</td>\n",
       "      <td>3.210000</td>\n",
       "      <td>19.800000</td>\n",
       "      <td>1.000000</td>\n",
       "      <td>0.500000</td>\n",
       "      <td>3.330000</td>\n",
       "      <td>0.000000</td>\n",
       "      <td>NaN</td>\n",
       "      <td>1.000000</td>\n",
       "      <td>26.150000</td>\n",
       "      <td>2.000000</td>\n",
       "      <td>1.000000</td>\n",
       "      <td>2.750000</td>\n",
       "    </tr>\n",
       "    <tr>\n",
       "      <th>max</th>\n",
       "      <td>2.000000</td>\n",
       "      <td>99.000000</td>\n",
       "      <td>265.000000</td>\n",
       "      <td>265.000000</td>\n",
       "      <td>9.000000</td>\n",
       "      <td>120098.840000</td>\n",
       "      <td>490.000000</td>\n",
       "      <td>12.500000</td>\n",
       "      <td>2.750000</td>\n",
       "      <td>222.220000</td>\n",
       "      <td>36.050000</td>\n",
       "      <td>NaN</td>\n",
       "      <td>1.000000</td>\n",
       "      <td>491.000000</td>\n",
       "      <td>5.000000</td>\n",
       "      <td>2.000000</td>\n",
       "      <td>2.750000</td>\n",
       "    </tr>\n",
       "  </tbody>\n",
       "</table>\n",
       "</div>"
      ],
      "text/plain": [
       "           VendorID    RatecodeID  PULocationID  DOLocationID  \\\n",
       "count  68211.000000  63887.000000  68211.000000  68211.000000   \n",
       "mean   1.863028      1.117160      98.549735     138.429901     \n",
       "std    0.343820      1.372913      61.244314     76.761311      \n",
       "min    1.000000      1.000000      1.000000      1.000000       \n",
       "25%    2.000000      1.000000      74.000000     74.000000      \n",
       "50%    2.000000      1.000000      75.000000     138.000000     \n",
       "75%    2.000000      1.000000      129.000000    219.000000     \n",
       "max    2.000000      99.000000     265.000000    265.000000     \n",
       "\n",
       "       passenger_count  trip_distance   fare_amount         extra  \\\n",
       "count  63887.000000     68211.000000   68211.000000  68211.000000   \n",
       "mean   1.315870         8.114852       16.603545     0.825431       \n",
       "std    0.979054         585.105955     13.470121     1.269904       \n",
       "min    0.000000         0.000000      -70.000000    -2.500000       \n",
       "25%    1.000000         1.110000       9.300000      0.000000       \n",
       "50%    1.000000         1.850000       13.500000     0.000000       \n",
       "75%    1.000000         3.210000       19.800000     1.000000       \n",
       "max    9.000000         120098.840000  490.000000    12.500000      \n",
       "\n",
       "            mta_tax    tip_amount  tolls_amount  ehail_fee  \\\n",
       "count  68211.000000  68211.000000  68211.000000  0.0         \n",
       "mean   0.588340      2.139012      0.169627     NaN          \n",
       "std    0.385819      3.052710      1.099789     NaN          \n",
       "min   -0.500000     -10.500000     0.000000     NaN          \n",
       "25%    0.500000      0.000000      0.000000     NaN          \n",
       "50%    0.500000      1.600000      0.000000     NaN          \n",
       "75%    0.500000      3.330000      0.000000     NaN          \n",
       "max    2.750000      222.220000    36.050000    NaN          \n",
       "\n",
       "       improvement_surcharge  total_amount  payment_type     trip_type  \\\n",
       "count  68211.000000           68211.000000  63887.000000  63877.000000   \n",
       "mean   0.951625               21.789377     1.373613      1.021933       \n",
       "std    0.196875               15.457115     0.508039      0.146465       \n",
       "min   -1.000000              -71.500000     1.000000      1.000000       \n",
       "25%    1.000000               12.900000     1.000000      1.000000       \n",
       "50%    1.000000               17.900000     1.000000      1.000000       \n",
       "75%    1.000000               26.150000     2.000000      1.000000       \n",
       "max    1.000000               491.000000    5.000000      2.000000       \n",
       "\n",
       "       congestion_surcharge  \n",
       "count  63887.000000          \n",
       "mean   0.726748              \n",
       "std    1.212836              \n",
       "min   -2.750000              \n",
       "25%    0.000000              \n",
       "50%    0.000000              \n",
       "75%    2.750000              \n",
       "max    2.750000              "
      ]
     },
     "metadata": {},
     "output_type": "display_data"
    },
    {
     "data": {
      "text/html": [
       "<div>\n",
       "<style scoped>\n",
       "    .dataframe tbody tr th:only-of-type {\n",
       "        vertical-align: middle;\n",
       "    }\n",
       "\n",
       "    .dataframe tbody tr th {\n",
       "        vertical-align: top;\n",
       "    }\n",
       "\n",
       "    .dataframe thead th {\n",
       "        text-align: right;\n",
       "    }\n",
       "</style>\n",
       "<table border=\"1\" class=\"dataframe\">\n",
       "  <thead>\n",
       "    <tr style=\"text-align: right;\">\n",
       "      <th></th>\n",
       "      <th>lpep_pickup_datetime</th>\n",
       "      <th>lpep_dropoff_datetime</th>\n",
       "      <th>store_and_fwd_flag</th>\n",
       "    </tr>\n",
       "  </thead>\n",
       "  <tbody>\n",
       "    <tr>\n",
       "      <th>count</th>\n",
       "      <td>68211</td>\n",
       "      <td>68211</td>\n",
       "      <td>63887</td>\n",
       "    </tr>\n",
       "    <tr>\n",
       "      <th>unique</th>\n",
       "      <td>66575</td>\n",
       "      <td>66519</td>\n",
       "      <td>2</td>\n",
       "    </tr>\n",
       "    <tr>\n",
       "      <th>top</th>\n",
       "      <td>2023-01-09 09:08:00</td>\n",
       "      <td>2023-01-09 00:00:00</td>\n",
       "      <td>N</td>\n",
       "    </tr>\n",
       "    <tr>\n",
       "      <th>freq</th>\n",
       "      <td>4</td>\n",
       "      <td>6</td>\n",
       "      <td>63579</td>\n",
       "    </tr>\n",
       "  </tbody>\n",
       "</table>\n",
       "</div>"
      ],
      "text/plain": [
       "       lpep_pickup_datetime lpep_dropoff_datetime store_and_fwd_flag\n",
       "count   68211                68211                 63887            \n",
       "unique  66575                66519                 2                \n",
       "top     2023-01-09 09:08:00  2023-01-09 00:00:00   N                \n",
       "freq    4                    6                     63579            "
      ]
     },
     "metadata": {},
     "output_type": "display_data"
    }
   ],
   "source": [
    "display(df.describe(), df.describe(include='object'))"
   ]
  },
  {
   "cell_type": "code",
   "execution_count": 246,
   "id": "4fc5390a",
   "metadata": {},
   "outputs": [
    {
     "data": {
      "text/html": [
       "<div>\n",
       "<style scoped>\n",
       "    .dataframe tbody tr th:only-of-type {\n",
       "        vertical-align: middle;\n",
       "    }\n",
       "\n",
       "    .dataframe tbody tr th {\n",
       "        vertical-align: top;\n",
       "    }\n",
       "\n",
       "    .dataframe thead th {\n",
       "        text-align: right;\n",
       "    }\n",
       "</style>\n",
       "<table border=\"1\" class=\"dataframe\">\n",
       "  <thead>\n",
       "    <tr style=\"text-align: right;\">\n",
       "      <th></th>\n",
       "      <th>Column Name</th>\n",
       "      <th>Number of Unique</th>\n",
       "      <th>Unique Sample</th>\n",
       "    </tr>\n",
       "  </thead>\n",
       "  <tbody>\n",
       "    <tr>\n",
       "      <th>0</th>\n",
       "      <td>VendorID</td>\n",
       "      <td>2</td>\n",
       "      <td>[2, 1]</td>\n",
       "    </tr>\n",
       "    <tr>\n",
       "      <th>1</th>\n",
       "      <td>lpep_pickup_datetime</td>\n",
       "      <td>66575</td>\n",
       "      <td>[2023-01-01 00:26:10, 2023-01-01 00:51:03, 2023-01-01 00:35:12, 2023-01-01 00:13:14, 2023-01-01 00:33:04, 2023-01-01 00:53:31, 2023-01-01 00:09:14, 2023-01-01 00:11:58, 2023-01-01 00:41:29, 2023-01-01 00:50:32, 2023-01-01 00:16:12, 2023-01-01 00:08:43, 2023-01-01 00:26:32, 2023-01-01 00:18:35, 2023-01-01 00:39:32, 2023-01-01 00:49:34, 2023-01-01 00:10:45, 2023-01-01 00:35:11, 2023-01-01 00:31:06, 2023-01-01 00:14:37, 2023-01-01 00:26:21, 2023-01-01 00:41:56, 2023-01-01 00:32:02, 2023-01-01 00:55:13, 2023-01-01 00:01:31, 2023-01-01 00:22:31, 2023-01-01 00:57:28, 2023-01-01 00:35:21, 2023-01-01 00:52:52, 2023-01-01 00:32:56, 2023-01-01 00:24:01, 2023-01-01 00:46:48, 2023-01-01 00:40:58, 2023-01-01 00:20:23, 2023-01-01 01:49:24, 2023-01-01 00:41:53, 2023-01-01 00:56:26, 2023-01-01 00:33:10, 2023-01-01 00:58:28, 2023-01-01 00:42:49, 2023-01-01 00:48:21, 2023-01-01 00:08:05, 2023-01-01 00:13:47, 2023-01-01 00:16:10, 2023-01-01 00:04:25, 2023-01-01 00:33:38, 2023-01-01 00:46:08, 2023-01-01 01:00:08, 2023-01-01 00:28:04, 2023-01-01 00:23:04, 2023-01-01 00:34:07, 2023-01-01 00:52:03, 2023-01-01 00:25:31, 2023-01-01 00:53:09, 2023-01-01 00:42:37, 2023-01-01 00:39:52, 2023-01-01 00:15:32, 2023-01-01 00:06:48, 2023-01-01 00:57:15, 2023-01-01 00:14:13, 2023-01-01 00:52:48, 2023-01-01 00:34:13, 2023-01-01 00:44:41, 2023-01-01 00:11:12, 2023-01-01 01:44:43, 2023-01-01 01:04:44, 2023-01-01 01:48:11, 2023-01-01 01:11:39, 2023-01-01 01:54:25, 2023-01-01 01:59:10, 2023-01-01 01:22:35, 2023-01-01 01:37:10, 2023-01-01 01:46:22, 2023-01-01 01:59:48, 2023-01-01 01:09:49, 2023-01-01 01:23:35, 2023-01-01 01:53:20, 2023-01-01 01:32:14, 2023-01-01 01:01:05, 2023-01-01 01:34:41, 2023-01-01 01:52:08, 2023-01-01 01:49:28, 2023-01-01 01:03:59, 2023-01-01 01:13:11, 2023-01-01 01:40:06, 2023-01-01 01:33:50, 2023-01-01 01:45:19, 2023-01-01 01:51:29, 2023-01-01 01:34:07, 2023-01-01 01:10:08, 2023-01-01 01:32:17, 2023-01-01 01:48:28, 2023-01-01 01:30:43, 2023-01-01 01:51:10, 2023-01-01 01:09:36, 2023-01-01 01:19:54, 2023-01-01 01:31:10, 2023-01-01 01:42:30, 2023-01-01 00:57:51, 2023-01-01 01:27:36, ...]</td>\n",
       "    </tr>\n",
       "    <tr>\n",
       "      <th>2</th>\n",
       "      <td>lpep_dropoff_datetime</td>\n",
       "      <td>66519</td>\n",
       "      <td>[2023-01-01 00:37:11, 2023-01-01 00:57:49, 2023-01-01 00:41:32, 2023-01-01 00:19:03, 2023-01-01 00:39:02, 2023-01-01 01:11:04, 2023-01-01 00:26:39, 2023-01-01 00:24:55, 2023-01-01 00:46:26, 2023-01-01 01:13:42, 2023-01-01 00:41:43, 2023-01-01 00:17:08, 2023-01-01 00:45:31, 2023-01-01 00:30:09, 2023-01-01 01:18:06, 2023-01-01 01:08:23, 2023-01-01 00:19:37, 2023-01-01 01:17:35, 2023-01-01 00:42:23, 2023-01-01 00:21:50, 2023-01-01 00:30:26, 2023-01-01 00:46:06, 2023-01-01 00:41:25, 2023-01-01 00:59:47, 2023-01-01 00:16:02, 2023-01-01 00:39:24, 2023-01-01 01:09:31, 2023-01-01 00:53:49, 2023-01-01 01:00:53, 2023-01-01 00:42:53, 2023-01-01 00:32:05, 2023-01-01 01:08:17, 2023-01-01 01:04:32, 2023-01-01 00:24:32, 2023-01-01 01:57:51, 2023-01-01 00:41:58, 2023-01-01 01:14:41, 2023-01-01 00:43:08, 2023-01-01 01:14:46, 2023-01-01 00:51:53, 2023-01-01 01:23:50, 2023-01-01 00:13:26, 2023-01-01 00:25:57, 2023-01-01 00:54:55, 2023-01-01 00:17:50, 2023-01-01 00:38:51, 2023-01-01 00:59:10, 2023-01-01 01:05:46, 2023-01-01 00:43:45, 2023-01-01 23:18:32, 2023-01-01 00:50:01, 2023-01-01 00:57:56, 2023-01-01 00:38:40, 2023-01-01 01:13:35, 2023-01-01 00:47:15, 2023-01-01 00:48:54, 2023-01-01 00:23:03, 2023-01-01 01:08:47, 2023-01-01 01:00:15, 2023-01-01 00:25:43, 2023-01-01 01:21:19, 2023-01-01 00:43:57, 2023-01-01 00:48:26, 2023-01-01 00:38:12, 2023-01-01 01:57:31, 2023-01-01 01:11:23, 2023-01-01 02:05:51, 2023-01-01 01:41:21, 2023-01-01 02:05:19, 2023-01-01 02:11:36, 2023-01-01 01:25:11, 2023-01-01 01:41:30, 2023-01-01 02:04:14, 2023-01-01 02:05:29, 2023-01-01 01:17:55, 2023-01-01 01:53:43, 2023-01-01 02:27:01, 2023-01-01 01:43:55, 2023-01-01 01:13:02, 2023-01-01 02:00:06, 2023-01-01 02:00:57, 2023-01-01 02:13:18, 2023-01-01 01:07:17, 2023-01-01 01:26:01, 2023-01-01 01:49:28, 2023-01-01 01:38:15, 2023-01-01 01:47:57, 2023-01-01 02:05:02, 2023-01-01 01:52:34, 2023-01-01 01:30:01, 2023-01-01 01:41:04, 2023-01-01 02:16:18, 2023-01-01 01:40:20, 2023-01-01 02:00:28, 2023-01-01 01:12:39, 2023-01-01 01:23:25, 2023-01-01 01:37:17, 2023-01-01 02:26:39, 2023-01-01 01:07:05, 2023-01-01 01:27:43, ...]</td>\n",
       "    </tr>\n",
       "    <tr>\n",
       "      <th>3</th>\n",
       "      <td>store_and_fwd_flag</td>\n",
       "      <td>2</td>\n",
       "      <td>[N, Y, nan]</td>\n",
       "    </tr>\n",
       "    <tr>\n",
       "      <th>4</th>\n",
       "      <td>RatecodeID</td>\n",
       "      <td>6</td>\n",
       "      <td>[1.0, 5.0, 4.0, 3.0, 2.0, 99.0, nan]</td>\n",
       "    </tr>\n",
       "    <tr>\n",
       "      <th>5</th>\n",
       "      <td>PULocationID</td>\n",
       "      <td>226</td>\n",
       "      <td>[166, 24, 223, 41, 181, 255, 75, 66, 195, 83, 97, 7, 42, 95, 260, 134, 130, 258, 129, 116, 92, 65, 74, 17, 152, 210, 112, 69, 243, 82, 179, 168, 80, 25, 145, 264, 33, 226, 52, 169, 36, 51, 157, 43, 256, 173, 70, 251, 40, 101, 61, 241, 146, 147, 228, 171, 138, 56, 244, 263, 196, 37, 236, 213, 28, 117, 14, 188, 177, 29, 262, 250, 72, 216, 22, 20, 139, 55, 257, 193, 127, 219, 3, 119, 265, 167, 150, 78, 135, 247, 93, 159, 48, 31, 91, 53, 160, 94, 47, 254, ...]</td>\n",
       "    </tr>\n",
       "    <tr>\n",
       "      <th>6</th>\n",
       "      <td>DOLocationID</td>\n",
       "      <td>249</td>\n",
       "      <td>[143, 43, 179, 238, 74, 262, 45, 75, 166, 140, 234, 148, 255, 186, 210, 129, 68, 260, 42, 24, 244, 146, 135, 173, 216, 142, 265, 164, 7, 83, 95, 130, 223, 80, 48, 263, 196, 250, 226, 239, 189, 41, 168, 162, 141, 33, 145, 151, 116, 195, 249, 235, 160, 98, 79, 229, 181, 193, 237, 233, 264, 102, 10, 37, 258, 82, 170, 61, 112, 231, 97, 17, 169, 96, 219, 243, 236, 56, 36, 114, 157, 161, 54, 90, 40, 188, 70, 63, 251, 101, 92, 153, 53, 57, 256, 65, 257, 138, 85, 52, ...]</td>\n",
       "    </tr>\n",
       "    <tr>\n",
       "      <th>7</th>\n",
       "      <td>passenger_count</td>\n",
       "      <td>10</td>\n",
       "      <td>[1.0, 2.0, 4.0, 3.0, 6.0, 5.0, 0.0, 7.0, 9.0, 8.0, nan]</td>\n",
       "    </tr>\n",
       "    <tr>\n",
       "      <th>8</th>\n",
       "      <td>trip_distance</td>\n",
       "      <td>1870</td>\n",
       "      <td>[2.58, 1.81, 0.0, 1.3, 1.1, 2.78, 3.8, 1.88, 1.11, 4.22, 4.8, 1.99, 7.08, 3.23, 5.91, 11.3, 8.28, 2.02, 0.96, 0.53, 1.51, 0.88, 2.48, 3.53, 2.25, 4.29, 2.53, 1.7, 10.44, 6.78, 1.39, 1.31, 6.7, 3.52, 1.74, 2.31, 1.37, 10.35, 1.05, 6.19, 2.8, 1.13, 3.19, 1.26, 2.87, 8.55, 4.46, 1.18, 2.5, 9.01, 0.63, 2.08, 1.47, 7.83, 2.15, 12.73, 1.62, 7.3, 2.73, 4.9, 2.17, 0.6, 0.8, 2.39, 1.23, 10.45, 2.23, 2.21, 5.2, 5.25, 6.32, 3.82, 3.58, 0.7, 2.91, 5.13, 12.4, 1.45, 7.52, 2.45, 0.54, 0.47, 1.16, 15.39, 5.34, 2.56, 14.97, 0.62, 0.87, 0.01, 0.86, 2.38, 2.64, 11.34, 1.61, 2.0, 4.08, 10.96, 6.14, 3.16, ...]</td>\n",
       "    </tr>\n",
       "    <tr>\n",
       "      <th>9</th>\n",
       "      <td>fare_amount</td>\n",
       "      <td>2553</td>\n",
       "      <td>[14.9, 10.7, 7.2, 6.5, 6.0, 17.7, 19.1, 14.2, 24.7, 26.8, 11.4, 30.3, 35.9, 32.5, 15.0, 44.3, 12.8, 8.6, 5.8, 16.3, 19.8, 18.4, 13.5, 8.0, 47.1, 60.0, 7.9, 10.0, 3.0, 5.5, 17.0, 75.0, 15.6, 47.8, 21.2, 37.3, 52.0, 4.4, 51.3, 25.5, 5.1, 9.3, 29.6, 48.5, 28.2, 21.9, 5.0, 4.0, 25.4, 36.6, 66.0, 20.0, 50.0, 190.0, 20.5, 46.4, 12.1, 31.0, 33.8, 26.1, 22.6, 15.5, 24.0, 25.0, 10.5, 19.5, 100.0, 40.0, 31.7, 40.8, 80.0, 110.0, 12.0, 14.5, 43.6, 23.0, 90.0, 49.2, 16.0, 28.9, 30.0, 25.8, 35.0, 35.2, 7.0, 78.0, 27.5, 32.4, 70.0, 41.5, 21.0, 45.0, 9.0, 54.8, 58.3, 38.0, 8.5, 23.3, 28.65, 49.9, ...]</td>\n",
       "    </tr>\n",
       "    <tr>\n",
       "      <th>10</th>\n",
       "      <td>extra</td>\n",
       "      <td>16</td>\n",
       "      <td>[1.0, 0.5, 3.75, 0.0, 3.25, 6.0, 5.0, 2.75, 5.5, -1.0, 2.5, 5.25, 7.5, -2.5, -0.5, 12.5]</td>\n",
       "    </tr>\n",
       "    <tr>\n",
       "      <th>11</th>\n",
       "      <td>mta_tax</td>\n",
       "      <td>6</td>\n",
       "      <td>[0.5, 1.5, 0.0, 1.0, -0.5, 2.75]</td>\n",
       "    </tr>\n",
       "    <tr>\n",
       "      <th>12</th>\n",
       "      <td>tip_amount</td>\n",
       "      <td>1492</td>\n",
       "      <td>[4.03, 2.64, 1.94, 1.7, 0.0, 4.85, 1.0, 3.0, 3.33, 4.04, 5.0, 2.42, 3.76, 4.46, 4.32, 4.18, 9.92, 12.61, 2.5, 2.78, 1.36, 2.22, 2.8, 2.63, 6.26, 5.3, 7.11, 2.6, 2.25, 4.58, 1.38, 7.55, 2.08, 1.5, 6.41, 3.2, 4.88, 2.36, 8.71, 6.69, 4.45, 1.75, 7.66, 2.0, 1.52, 2.49, 9.0, 6.65, 1.55, 6.44, 10.33, 21.5, 4.38, 6.42, 7.81, 3.96, 6.06, 8.79, 4.87, 4.0, 7.52, 6.32, 5.02, 2.65, 3.11, 8.2, 3.62, 20.06, 3.75, 3.34, 8.75, 15.2, 9.24, 4.2, 3.82, 2.18, 3.3, 0.05, 6.09, 4.5, 4.35, 5.22, 8.66, 1.66, 15.66, 6.0, 1.8, 5.01, 4.17, 3.92, 3.9, 6.55, 3.54, 10.61, 5.5, 5.75, 10.26, 5.44, 2.95, 9.9, ...]</td>\n",
       "    </tr>\n",
       "    <tr>\n",
       "      <th>13</th>\n",
       "      <td>tolls_amount</td>\n",
       "      <td>26</td>\n",
       "      <td>[0.0, 6.55, 4.0, 13.75, 9.0, 3.0, 11.75, 2.45, 7.0, 13.1, 18.3, 20.5, 12.75, 22.75, 21.3, 14.75, 25.5, 36.05, 19.3, 6.25, 9.55, 8.55, 8.0, 5.09, 6.75, 20.0]</td>\n",
       "    </tr>\n",
       "    <tr>\n",
       "      <th>14</th>\n",
       "      <td>ehail_fee</td>\n",
       "      <td>0</td>\n",
       "      <td>[nan]</td>\n",
       "    </tr>\n",
       "    <tr>\n",
       "      <th>15</th>\n",
       "      <td>improvement_surcharge</td>\n",
       "      <td>5</td>\n",
       "      <td>[1.0, 0.0, 0.3, -1.0, -0.3]</td>\n",
       "    </tr>\n",
       "    <tr>\n",
       "      <th>16</th>\n",
       "      <td>total_amount</td>\n",
       "      <td>4670</td>\n",
       "      <td>[24.18, 15.84, 11.64, 10.2, 8.0, 22.95, 29.2, 16.7, 10.7, 32.95, 32.05, 19.98, 38.55, 24.24, 41.15, 34.5, 15.0, 54.55, 15.3, 11.1, 12.12, 8.3, 13.9, 9.7, 22.56, 26.76, 25.92, 25.08, 18.75, 13.75, 59.52, 75.66, 10.4, 5.5, 21.6, 16.68, 20.2, 13.2, 49.6, 8.16, 21.72, 78.05, 15.78, 27.11, 13.32, 18.1, 58.35, 30.81, 13.0, 39.8, 11.25, 16.0, 19.83, 54.5, 8.28, 53.8, 37.8, 22.93, 10.0, 38.46, 19.2, 7.6, 9.0, 24.38, 14.16, 43.56, 53.75, 40.14, 24.4, 34.85, 26.7, 8.75, 6.0, 38.31, 12.5, 47.65, 9.12, 10.79, 12.48, 68.5, 59.55, 21.0, 20.85, 9.3, 13.1, 191.0, 14.5, 17.4, 60.0, 13.35, 32.19, 61.98, 33.45, 26.3, 23.2, 18.98, 33.5, 38.52, 46.86, 28.6, ...]</td>\n",
       "    </tr>\n",
       "    <tr>\n",
       "      <th>17</th>\n",
       "      <td>payment_type</td>\n",
       "      <td>5</td>\n",
       "      <td>[1.0, 2.0, 3.0, 4.0, 5.0, nan]</td>\n",
       "    </tr>\n",
       "    <tr>\n",
       "      <th>18</th>\n",
       "      <td>trip_type</td>\n",
       "      <td>2</td>\n",
       "      <td>[1.0, 2.0, nan]</td>\n",
       "    </tr>\n",
       "    <tr>\n",
       "      <th>19</th>\n",
       "      <td>congestion_surcharge</td>\n",
       "      <td>4</td>\n",
       "      <td>[2.75, 0.0, 2.5, -2.75, nan]</td>\n",
       "    </tr>\n",
       "  </tbody>\n",
       "</table>\n",
       "</div>"
      ],
      "text/plain": [
       "              Column Name  Number of Unique  \\\n",
       "0   VendorID               2                  \n",
       "1   lpep_pickup_datetime   66575              \n",
       "2   lpep_dropoff_datetime  66519              \n",
       "3   store_and_fwd_flag     2                  \n",
       "4   RatecodeID             6                  \n",
       "5   PULocationID           226                \n",
       "6   DOLocationID           249                \n",
       "7   passenger_count        10                 \n",
       "8   trip_distance          1870               \n",
       "9   fare_amount            2553               \n",
       "10  extra                  16                 \n",
       "11  mta_tax                6                  \n",
       "12  tip_amount             1492               \n",
       "13  tolls_amount           26                 \n",
       "14  ehail_fee              0                  \n",
       "15  improvement_surcharge  5                  \n",
       "16  total_amount           4670               \n",
       "17  payment_type           5                  \n",
       "18  trip_type              2                  \n",
       "19  congestion_surcharge   4                  \n",
       "\n",
       "                                                                                                                                                                                                                                                                                                                                                                                                                                                                                                                                                                                                                                                                                                                                                                                                                                                                                                                                                                                                                                                                                                                                                                                                                                                                                                                                                                                                                                                                                                                                                                                                                                                                                                                                                                                                                                                                                                                                                                                                                                                                                                                                                                                Unique Sample  \n",
       "0   [2, 1]                                                                                                                                                                                                                                                                                                                                                                                                                                                                                                                                                                                                                                                                                                                                                                                                                                                                                                                                                                                                                                                                                                                                                                                                                                                                                                                                                                                                                                                                                                                                                                                                                                                                                                                                                                                                                                                                                                                                                                                                                                                                                                                                                                                     \n",
       "1   [2023-01-01 00:26:10, 2023-01-01 00:51:03, 2023-01-01 00:35:12, 2023-01-01 00:13:14, 2023-01-01 00:33:04, 2023-01-01 00:53:31, 2023-01-01 00:09:14, 2023-01-01 00:11:58, 2023-01-01 00:41:29, 2023-01-01 00:50:32, 2023-01-01 00:16:12, 2023-01-01 00:08:43, 2023-01-01 00:26:32, 2023-01-01 00:18:35, 2023-01-01 00:39:32, 2023-01-01 00:49:34, 2023-01-01 00:10:45, 2023-01-01 00:35:11, 2023-01-01 00:31:06, 2023-01-01 00:14:37, 2023-01-01 00:26:21, 2023-01-01 00:41:56, 2023-01-01 00:32:02, 2023-01-01 00:55:13, 2023-01-01 00:01:31, 2023-01-01 00:22:31, 2023-01-01 00:57:28, 2023-01-01 00:35:21, 2023-01-01 00:52:52, 2023-01-01 00:32:56, 2023-01-01 00:24:01, 2023-01-01 00:46:48, 2023-01-01 00:40:58, 2023-01-01 00:20:23, 2023-01-01 01:49:24, 2023-01-01 00:41:53, 2023-01-01 00:56:26, 2023-01-01 00:33:10, 2023-01-01 00:58:28, 2023-01-01 00:42:49, 2023-01-01 00:48:21, 2023-01-01 00:08:05, 2023-01-01 00:13:47, 2023-01-01 00:16:10, 2023-01-01 00:04:25, 2023-01-01 00:33:38, 2023-01-01 00:46:08, 2023-01-01 01:00:08, 2023-01-01 00:28:04, 2023-01-01 00:23:04, 2023-01-01 00:34:07, 2023-01-01 00:52:03, 2023-01-01 00:25:31, 2023-01-01 00:53:09, 2023-01-01 00:42:37, 2023-01-01 00:39:52, 2023-01-01 00:15:32, 2023-01-01 00:06:48, 2023-01-01 00:57:15, 2023-01-01 00:14:13, 2023-01-01 00:52:48, 2023-01-01 00:34:13, 2023-01-01 00:44:41, 2023-01-01 00:11:12, 2023-01-01 01:44:43, 2023-01-01 01:04:44, 2023-01-01 01:48:11, 2023-01-01 01:11:39, 2023-01-01 01:54:25, 2023-01-01 01:59:10, 2023-01-01 01:22:35, 2023-01-01 01:37:10, 2023-01-01 01:46:22, 2023-01-01 01:59:48, 2023-01-01 01:09:49, 2023-01-01 01:23:35, 2023-01-01 01:53:20, 2023-01-01 01:32:14, 2023-01-01 01:01:05, 2023-01-01 01:34:41, 2023-01-01 01:52:08, 2023-01-01 01:49:28, 2023-01-01 01:03:59, 2023-01-01 01:13:11, 2023-01-01 01:40:06, 2023-01-01 01:33:50, 2023-01-01 01:45:19, 2023-01-01 01:51:29, 2023-01-01 01:34:07, 2023-01-01 01:10:08, 2023-01-01 01:32:17, 2023-01-01 01:48:28, 2023-01-01 01:30:43, 2023-01-01 01:51:10, 2023-01-01 01:09:36, 2023-01-01 01:19:54, 2023-01-01 01:31:10, 2023-01-01 01:42:30, 2023-01-01 00:57:51, 2023-01-01 01:27:36, ...]  \n",
       "2   [2023-01-01 00:37:11, 2023-01-01 00:57:49, 2023-01-01 00:41:32, 2023-01-01 00:19:03, 2023-01-01 00:39:02, 2023-01-01 01:11:04, 2023-01-01 00:26:39, 2023-01-01 00:24:55, 2023-01-01 00:46:26, 2023-01-01 01:13:42, 2023-01-01 00:41:43, 2023-01-01 00:17:08, 2023-01-01 00:45:31, 2023-01-01 00:30:09, 2023-01-01 01:18:06, 2023-01-01 01:08:23, 2023-01-01 00:19:37, 2023-01-01 01:17:35, 2023-01-01 00:42:23, 2023-01-01 00:21:50, 2023-01-01 00:30:26, 2023-01-01 00:46:06, 2023-01-01 00:41:25, 2023-01-01 00:59:47, 2023-01-01 00:16:02, 2023-01-01 00:39:24, 2023-01-01 01:09:31, 2023-01-01 00:53:49, 2023-01-01 01:00:53, 2023-01-01 00:42:53, 2023-01-01 00:32:05, 2023-01-01 01:08:17, 2023-01-01 01:04:32, 2023-01-01 00:24:32, 2023-01-01 01:57:51, 2023-01-01 00:41:58, 2023-01-01 01:14:41, 2023-01-01 00:43:08, 2023-01-01 01:14:46, 2023-01-01 00:51:53, 2023-01-01 01:23:50, 2023-01-01 00:13:26, 2023-01-01 00:25:57, 2023-01-01 00:54:55, 2023-01-01 00:17:50, 2023-01-01 00:38:51, 2023-01-01 00:59:10, 2023-01-01 01:05:46, 2023-01-01 00:43:45, 2023-01-01 23:18:32, 2023-01-01 00:50:01, 2023-01-01 00:57:56, 2023-01-01 00:38:40, 2023-01-01 01:13:35, 2023-01-01 00:47:15, 2023-01-01 00:48:54, 2023-01-01 00:23:03, 2023-01-01 01:08:47, 2023-01-01 01:00:15, 2023-01-01 00:25:43, 2023-01-01 01:21:19, 2023-01-01 00:43:57, 2023-01-01 00:48:26, 2023-01-01 00:38:12, 2023-01-01 01:57:31, 2023-01-01 01:11:23, 2023-01-01 02:05:51, 2023-01-01 01:41:21, 2023-01-01 02:05:19, 2023-01-01 02:11:36, 2023-01-01 01:25:11, 2023-01-01 01:41:30, 2023-01-01 02:04:14, 2023-01-01 02:05:29, 2023-01-01 01:17:55, 2023-01-01 01:53:43, 2023-01-01 02:27:01, 2023-01-01 01:43:55, 2023-01-01 01:13:02, 2023-01-01 02:00:06, 2023-01-01 02:00:57, 2023-01-01 02:13:18, 2023-01-01 01:07:17, 2023-01-01 01:26:01, 2023-01-01 01:49:28, 2023-01-01 01:38:15, 2023-01-01 01:47:57, 2023-01-01 02:05:02, 2023-01-01 01:52:34, 2023-01-01 01:30:01, 2023-01-01 01:41:04, 2023-01-01 02:16:18, 2023-01-01 01:40:20, 2023-01-01 02:00:28, 2023-01-01 01:12:39, 2023-01-01 01:23:25, 2023-01-01 01:37:17, 2023-01-01 02:26:39, 2023-01-01 01:07:05, 2023-01-01 01:27:43, ...]  \n",
       "3   [N, Y, nan]                                                                                                                                                                                                                                                                                                                                                                                                                                                                                                                                                                                                                                                                                                                                                                                                                                                                                                                                                                                                                                                                                                                                                                                                                                                                                                                                                                                                                                                                                                                                                                                                                                                                                                                                                                                                                                                                                                                                                                                                                                                                                                                                                                                \n",
       "4   [1.0, 5.0, 4.0, 3.0, 2.0, 99.0, nan]                                                                                                                                                                                                                                                                                                                                                                                                                                                                                                                                                                                                                                                                                                                                                                                                                                                                                                                                                                                                                                                                                                                                                                                                                                                                                                                                                                                                                                                                                                                                                                                                                                                                                                                                                                                                                                                                                                                                                                                                                                                                                                                                                       \n",
       "5   [166, 24, 223, 41, 181, 255, 75, 66, 195, 83, 97, 7, 42, 95, 260, 134, 130, 258, 129, 116, 92, 65, 74, 17, 152, 210, 112, 69, 243, 82, 179, 168, 80, 25, 145, 264, 33, 226, 52, 169, 36, 51, 157, 43, 256, 173, 70, 251, 40, 101, 61, 241, 146, 147, 228, 171, 138, 56, 244, 263, 196, 37, 236, 213, 28, 117, 14, 188, 177, 29, 262, 250, 72, 216, 22, 20, 139, 55, 257, 193, 127, 219, 3, 119, 265, 167, 150, 78, 135, 247, 93, 159, 48, 31, 91, 53, 160, 94, 47, 254, ...]                                                                                                                                                                                                                                                                                                                                                                                                                                                                                                                                                                                                                                                                                                                                                                                                                                                                                                                                                                                                                                                                                                                                                                                                                                                                                                                                                                                                                                                                                                                                                                                                                                                                                                               \n",
       "6   [143, 43, 179, 238, 74, 262, 45, 75, 166, 140, 234, 148, 255, 186, 210, 129, 68, 260, 42, 24, 244, 146, 135, 173, 216, 142, 265, 164, 7, 83, 95, 130, 223, 80, 48, 263, 196, 250, 226, 239, 189, 41, 168, 162, 141, 33, 145, 151, 116, 195, 249, 235, 160, 98, 79, 229, 181, 193, 237, 233, 264, 102, 10, 37, 258, 82, 170, 61, 112, 231, 97, 17, 169, 96, 219, 243, 236, 56, 36, 114, 157, 161, 54, 90, 40, 188, 70, 63, 251, 101, 92, 153, 53, 57, 256, 65, 257, 138, 85, 52, ...]                                                                                                                                                                                                                                                                                                                                                                                                                                                                                                                                                                                                                                                                                                                                                                                                                                                                                                                                                                                                                                                                                                                                                                                                                                                                                                                                                                                                                                                                                                                                                                                                                                                                                                       \n",
       "7   [1.0, 2.0, 4.0, 3.0, 6.0, 5.0, 0.0, 7.0, 9.0, 8.0, nan]                                                                                                                                                                                                                                                                                                                                                                                                                                                                                                                                                                                                                                                                                                                                                                                                                                                                                                                                                                                                                                                                                                                                                                                                                                                                                                                                                                                                                                                                                                                                                                                                                                                                                                                                                                                                                                                                                                                                                                                                                                                                                                                                    \n",
       "8   [2.58, 1.81, 0.0, 1.3, 1.1, 2.78, 3.8, 1.88, 1.11, 4.22, 4.8, 1.99, 7.08, 3.23, 5.91, 11.3, 8.28, 2.02, 0.96, 0.53, 1.51, 0.88, 2.48, 3.53, 2.25, 4.29, 2.53, 1.7, 10.44, 6.78, 1.39, 1.31, 6.7, 3.52, 1.74, 2.31, 1.37, 10.35, 1.05, 6.19, 2.8, 1.13, 3.19, 1.26, 2.87, 8.55, 4.46, 1.18, 2.5, 9.01, 0.63, 2.08, 1.47, 7.83, 2.15, 12.73, 1.62, 7.3, 2.73, 4.9, 2.17, 0.6, 0.8, 2.39, 1.23, 10.45, 2.23, 2.21, 5.2, 5.25, 6.32, 3.82, 3.58, 0.7, 2.91, 5.13, 12.4, 1.45, 7.52, 2.45, 0.54, 0.47, 1.16, 15.39, 5.34, 2.56, 14.97, 0.62, 0.87, 0.01, 0.86, 2.38, 2.64, 11.34, 1.61, 2.0, 4.08, 10.96, 6.14, 3.16, ...]                                                                                                                                                                                                                                                                                                                                                                                                                                                                                                                                                                                                                                                                                                                                                                                                                                                                                                                                                                                                                                                                                                                                                                                                                                                                                                                                                                                                                                                                                                                                                                      \n",
       "9   [14.9, 10.7, 7.2, 6.5, 6.0, 17.7, 19.1, 14.2, 24.7, 26.8, 11.4, 30.3, 35.9, 32.5, 15.0, 44.3, 12.8, 8.6, 5.8, 16.3, 19.8, 18.4, 13.5, 8.0, 47.1, 60.0, 7.9, 10.0, 3.0, 5.5, 17.0, 75.0, 15.6, 47.8, 21.2, 37.3, 52.0, 4.4, 51.3, 25.5, 5.1, 9.3, 29.6, 48.5, 28.2, 21.9, 5.0, 4.0, 25.4, 36.6, 66.0, 20.0, 50.0, 190.0, 20.5, 46.4, 12.1, 31.0, 33.8, 26.1, 22.6, 15.5, 24.0, 25.0, 10.5, 19.5, 100.0, 40.0, 31.7, 40.8, 80.0, 110.0, 12.0, 14.5, 43.6, 23.0, 90.0, 49.2, 16.0, 28.9, 30.0, 25.8, 35.0, 35.2, 7.0, 78.0, 27.5, 32.4, 70.0, 41.5, 21.0, 45.0, 9.0, 54.8, 58.3, 38.0, 8.5, 23.3, 28.65, 49.9, ...]                                                                                                                                                                                                                                                                                                                                                                                                                                                                                                                                                                                                                                                                                                                                                                                                                                                                                                                                                                                                                                                                                                                                                                                                                                                                                                                                                                                                                                                                                                                                                                           \n",
       "10  [1.0, 0.5, 3.75, 0.0, 3.25, 6.0, 5.0, 2.75, 5.5, -1.0, 2.5, 5.25, 7.5, -2.5, -0.5, 12.5]                                                                                                                                                                                                                                                                                                                                                                                                                                                                                                                                                                                                                                                                                                                                                                                                                                                                                                                                                                                                                                                                                                                                                                                                                                                                                                                                                                                                                                                                                                                                                                                                                                                                                                                                                                                                                                                                                                                                                                                                                                                                                                   \n",
       "11  [0.5, 1.5, 0.0, 1.0, -0.5, 2.75]                                                                                                                                                                                                                                                                                                                                                                                                                                                                                                                                                                                                                                                                                                                                                                                                                                                                                                                                                                                                                                                                                                                                                                                                                                                                                                                                                                                                                                                                                                                                                                                                                                                                                                                                                                                                                                                                                                                                                                                                                                                                                                                                                           \n",
       "12  [4.03, 2.64, 1.94, 1.7, 0.0, 4.85, 1.0, 3.0, 3.33, 4.04, 5.0, 2.42, 3.76, 4.46, 4.32, 4.18, 9.92, 12.61, 2.5, 2.78, 1.36, 2.22, 2.8, 2.63, 6.26, 5.3, 7.11, 2.6, 2.25, 4.58, 1.38, 7.55, 2.08, 1.5, 6.41, 3.2, 4.88, 2.36, 8.71, 6.69, 4.45, 1.75, 7.66, 2.0, 1.52, 2.49, 9.0, 6.65, 1.55, 6.44, 10.33, 21.5, 4.38, 6.42, 7.81, 3.96, 6.06, 8.79, 4.87, 4.0, 7.52, 6.32, 5.02, 2.65, 3.11, 8.2, 3.62, 20.06, 3.75, 3.34, 8.75, 15.2, 9.24, 4.2, 3.82, 2.18, 3.3, 0.05, 6.09, 4.5, 4.35, 5.22, 8.66, 1.66, 15.66, 6.0, 1.8, 5.01, 4.17, 3.92, 3.9, 6.55, 3.54, 10.61, 5.5, 5.75, 10.26, 5.44, 2.95, 9.9, ...]                                                                                                                                                                                                                                                                                                                                                                                                                                                                                                                                                                                                                                                                                                                                                                                                                                                                                                                                                                                                                                                                                                                                                                                                                                                                                                                                                                                                                                                                                                                                                                               \n",
       "13  [0.0, 6.55, 4.0, 13.75, 9.0, 3.0, 11.75, 2.45, 7.0, 13.1, 18.3, 20.5, 12.75, 22.75, 21.3, 14.75, 25.5, 36.05, 19.3, 6.25, 9.55, 8.55, 8.0, 5.09, 6.75, 20.0]                                                                                                                                                                                                                                                                                                                                                                                                                                                                                                                                                                                                                                                                                                                                                                                                                                                                                                                                                                                                                                                                                                                                                                                                                                                                                                                                                                                                                                                                                                                                                                                                                                                                                                                                                                                                                                                                                                                                                                                                                               \n",
       "14  [nan]                                                                                                                                                                                                                                                                                                                                                                                                                                                                                                                                                                                                                                                                                                                                                                                                                                                                                                                                                                                                                                                                                                                                                                                                                                                                                                                                                                                                                                                                                                                                                                                                                                                                                                                                                                                                                                                                                                                                                                                                                                                                                                                                                                                      \n",
       "15  [1.0, 0.0, 0.3, -1.0, -0.3]                                                                                                                                                                                                                                                                                                                                                                                                                                                                                                                                                                                                                                                                                                                                                                                                                                                                                                                                                                                                                                                                                                                                                                                                                                                                                                                                                                                                                                                                                                                                                                                                                                                                                                                                                                                                                                                                                                                                                                                                                                                                                                                                                                \n",
       "16  [24.18, 15.84, 11.64, 10.2, 8.0, 22.95, 29.2, 16.7, 10.7, 32.95, 32.05, 19.98, 38.55, 24.24, 41.15, 34.5, 15.0, 54.55, 15.3, 11.1, 12.12, 8.3, 13.9, 9.7, 22.56, 26.76, 25.92, 25.08, 18.75, 13.75, 59.52, 75.66, 10.4, 5.5, 21.6, 16.68, 20.2, 13.2, 49.6, 8.16, 21.72, 78.05, 15.78, 27.11, 13.32, 18.1, 58.35, 30.81, 13.0, 39.8, 11.25, 16.0, 19.83, 54.5, 8.28, 53.8, 37.8, 22.93, 10.0, 38.46, 19.2, 7.6, 9.0, 24.38, 14.16, 43.56, 53.75, 40.14, 24.4, 34.85, 26.7, 8.75, 6.0, 38.31, 12.5, 47.65, 9.12, 10.79, 12.48, 68.5, 59.55, 21.0, 20.85, 9.3, 13.1, 191.0, 14.5, 17.4, 60.0, 13.35, 32.19, 61.98, 33.45, 26.3, 23.2, 18.98, 33.5, 38.52, 46.86, 28.6, ...]                                                                                                                                                                                                                                                                                                                                                                                                                                                                                                                                                                                                                                                                                                                                                                                                                                                                                                                                                                                                                                                                                                                                                                                                                                                                                                                                                                                                                                                                                                                  \n",
       "17  [1.0, 2.0, 3.0, 4.0, 5.0, nan]                                                                                                                                                                                                                                                                                                                                                                                                                                                                                                                                                                                                                                                                                                                                                                                                                                                                                                                                                                                                                                                                                                                                                                                                                                                                                                                                                                                                                                                                                                                                                                                                                                                                                                                                                                                                                                                                                                                                                                                                                                                                                                                                                             \n",
       "18  [1.0, 2.0, nan]                                                                                                                                                                                                                                                                                                                                                                                                                                                                                                                                                                                                                                                                                                                                                                                                                                                                                                                                                                                                                                                                                                                                                                                                                                                                                                                                                                                                                                                                                                                                                                                                                                                                                                                                                                                                                                                                                                                                                                                                                                                                                                                                                                            \n",
       "19  [2.75, 0.0, 2.5, -2.75, nan]                                                                                                                                                                                                                                                                                                                                                                                                                                                                                                                                                                                                                                                                                                                                                                                                                                                                                                                                                                                                                                                                                                                                                                                                                                                                                                                                                                                                                                                                                                                                                                                                                                                                                                                                                                                                                                                                                                                                                                                                                                                                                                                                                               "
      ]
     },
     "execution_count": 246,
     "metadata": {},
     "output_type": "execute_result"
    }
   ],
   "source": [
    "pd.set_option('display.max_colwidth', 1)\n",
    "# data uni di tiap kolom\n",
    "listItem = []\n",
    "for col in df.columns :\n",
    "    listItem.append( [col, df[col].nunique(), df[col].unique()])\n",
    "\n",
    "tabel1Desc = pd.DataFrame(columns=['Column Name', 'Number of Unique', 'Unique Sample'],\n",
    "                     data=listItem)\n",
    "tabel1Desc"
   ]
  },
  {
   "cell_type": "markdown",
   "id": "743ac0cb",
   "metadata": {},
   "source": [
    "Gambaran secara umum untuk Dataset NYC TLC Trip Record adalah:\n",
    "* dataset memiliki **20** kolom dan **68.211** baris\n",
    "* beberapa kolom, yaitu, `store_and_fwd_flag`, `RatecodeID`, `passenger_count`, `payment_type`, `trip_type`, dan `congestion_surcharge` memiliki beberapa data kosong. Data kosong pada kolom-kolom tersebut diwakili dengan data NaN.\n",
    "* untuk `ehail_fee` seluruhnya ialah data kosong, sehingga bisa dihapus.\n",
    "* kolom-kolom `fare_amount`, `extra`, `mta_tax`, dan `tip_amount` memiliki data bernilai minus, dimana hal tersebut tidak mungkin terjadi (kemungkinan kesalahan penulisan), sehingga kolom-kolom tersebut harus diubah ke dalam nilai absolut.\n",
    "* beberapa kolom tidak relevan untuk penyelesaian rumusan masalah sehingga bisa dihapus, yaitu kolom `VendorID`, `store_and_fwd_flag`, `RatecodeID`, `improvement_surcharge`, `payment_type`, `trip_type`, dan `congestion_surcharge`."
   ]
  },
  {
   "cell_type": "markdown",
   "id": "7f355333",
   "metadata": {},
   "source": [
    "### Missing Value"
   ]
  },
  {
   "cell_type": "code",
   "execution_count": 213,
   "id": "4b029c8f",
   "metadata": {},
   "outputs": [
    {
     "data": {
      "text/plain": [
       "VendorID                   0.000000\n",
       "lpep_pickup_datetime       0.000000\n",
       "lpep_dropoff_datetime      0.000000\n",
       "store_and_fwd_flag         6.339154\n",
       "RatecodeID                 6.339154\n",
       "PULocationID               0.000000\n",
       "DOLocationID               0.000000\n",
       "passenger_count            6.339154\n",
       "trip_distance              0.000000\n",
       "fare_amount                0.000000\n",
       "extra                      0.000000\n",
       "mta_tax                    0.000000\n",
       "tip_amount                 0.000000\n",
       "tolls_amount               0.000000\n",
       "ehail_fee                100.000000\n",
       "improvement_surcharge      0.000000\n",
       "total_amount               0.000000\n",
       "payment_type               6.339154\n",
       "trip_type                  6.353814\n",
       "congestion_surcharge       6.339154\n",
       "dtype: float64"
      ]
     },
     "execution_count": 213,
     "metadata": {},
     "output_type": "execute_result"
    }
   ],
   "source": [
    "# persentase missing value di tiap kolom\n",
    "df.isna().sum()/df.shape[0]*100"
   ]
  },
  {
   "cell_type": "code",
   "execution_count": 214,
   "id": "61830f2f",
   "metadata": {},
   "outputs": [
    {
     "data": {
      "text/plain": [
       "<Axes: >"
      ]
     },
     "execution_count": 214,
     "metadata": {},
     "output_type": "execute_result"
    },
    {
     "data": {
      "image/png": "[encoded data removed]",
      "text/plain": [
       "<Figure size 1000x1000 with 2 Axes>"
      ]
     },
     "metadata": {},
     "output_type": "display_data"
    }
   ],
   "source": [
    "# Sebaran missing value di dalam data\n",
    "plt.figure(figsize=(10,10))\n",
    "sns.heatmap(df[['VendorID', 'lpep_pickup_datetime', 'lpep_dropoff_datetime',\n",
    "       'store_and_fwd_flag', 'RatecodeID', 'PULocationID', 'DOLocationID',\n",
    "       'passenger_count', 'trip_distance', 'fare_amount', 'extra', 'mta_tax',\n",
    "       'tip_amount', 'tolls_amount', 'ehail_fee', 'improvement_surcharge',\n",
    "       'total_amount', 'payment_type', 'trip_type', 'congestion_surcharge']].isna())"
   ]
  },
  {
   "cell_type": "markdown",
   "id": "f07fb3ad",
   "metadata": {},
   "source": [
    "Missing Value pada dataset ini secara garis besar:  \n",
    "* pada kolom `store_and_fwd_flag`, `RatecodeID`, `passenger_count`, `payment_type`, `trip_type`, dan `congestion_surcharge` memiliki proporsi yang cukup kecil (**<10%**), sedangkan missing value pada kolom `ehail_fee` mencapai **100%**.\n",
    "\n",
    "Untuk menangani missing value pada dataset ini, dapat digunakan 2 cara, yaitu:\n",
    "* Mengisi missing value dengan simple imputer pada missing value yang proporsinya cukup kecil, dengan cara memasukan nilai mean/median/modus. dengan cara ini besar harapannya nilai yang diisi pada missing value akan mendekati nilai yang sebenarnya.\n",
    "* Menghapus kolom secara keseluruhan pada kolom yang 100% missing value, dikarenakan kolom tidak relevan dan kolom tidak dapat diisi dengan imputer manapun."
   ]
  },
  {
   "cell_type": "markdown",
   "id": "dd666ebd",
   "metadata": {},
   "source": [
    "### Handling data bernilai minus"
   ]
  },
  {
   "cell_type": "markdown",
   "id": "d2466935",
   "metadata": {},
   "source": [
    "kolom-kolom `fare_amount`, `extra`, `mta_tax`, dan `tip_amount` memiliki data bernilai minus, hal tersebut mungkin terjadi dikarenakan kesalahan penulisan, dan bisa diubah ke nilai absolutnya sehingga diharapkan data tersebut menjadi nilai aslinya."
   ]
  },
  {
   "cell_type": "code",
   "execution_count": 7,
   "id": "94b118ce",
   "metadata": {},
   "outputs": [
    {
     "data": {
      "text/plain": [
       "fare_amount     0.0\n",
       "extra           0.0\n",
       "mta_tax         0.0\n",
       "tip_amount      0.0\n",
       "total_amount    0.0\n",
       "dtype: float64"
      ]
     },
     "execution_count": 7,
     "metadata": {},
     "output_type": "execute_result"
    }
   ],
   "source": [
    "# menjadikan nilai kolom absolut\n",
    "df[['fare_amount', 'extra', 'mta_tax', 'tip_amount', 'total_amount']] = df[['fare_amount', 'extra', 'mta_tax', 'tip_amount', 'total_amount']].abs()\n",
    "df[['fare_amount', 'extra', 'mta_tax', 'tip_amount', 'total_amount']].min()\n",
    "# nilai terkecil pada kolom sudah bernilai 0.0"
   ]
  },
  {
   "cell_type": "markdown",
   "id": "620eecca",
   "metadata": {},
   "source": [
    "### Handling missing value pada kolom yang relevan"
   ]
  },
  {
   "cell_type": "markdown",
   "id": "7d07acb7",
   "metadata": {},
   "source": [
    "Kolom yang memiliki relevansi pada rumusan masalah dan memiliki missing value hanya pada kolom `passenger_count` dan `congestion_surcharge`, sehingga perlu diisi dengan data dengan metode simple imputer.\n",
    "\n",
    "Pertama-tama perlu dilihat apakah kolom `passenger_count` dan `congestion_surcharge` memiliki sebaran data yang normal atau tidak."
   ]
  },
  {
   "cell_type": "markdown",
   "id": "2abd5d8e",
   "metadata": {},
   "source": [
    "**Passenger Count**"
   ]
  },
  {
   "cell_type": "code",
   "execution_count": 248,
   "id": "c743272b",
   "metadata": {},
   "outputs": [
    {
     "data": {
      "image/png": "[encoded data removed]",
      "text/plain": [
       "<Figure size 1000x600 with 1 Axes>"
      ]
     },
     "metadata": {},
     "output_type": "display_data"
    }
   ],
   "source": [
    "plt.figure(figsize=(10, 6))\n",
    "sns.histplot(df['passenger_count'], kde=True, color='#FFD700')\n",
    "plt.title(\"Histogram Data Passenger_count\")\n",
    "plt.show()"
   ]
  },
  {
   "cell_type": "markdown",
   "id": "112e48f5",
   "metadata": {},
   "source": [
    "Dapat terlihat bahwa jumlah penumpang lebih banyak berjumlah kurang dari 2 orang, dan dengan data tidak terdistribusi normal, kita akan menggunakan simple imputer dengan metode **median**."
   ]
  },
  {
   "cell_type": "code",
   "execution_count": 58,
   "id": "b99ab068",
   "metadata": {},
   "outputs": [
    {
     "data": {
      "text/plain": [
       "1.0"
      ]
     },
     "execution_count": 58,
     "metadata": {},
     "output_type": "execute_result"
    }
   ],
   "source": [
    "# nilai median\n",
    "df['passenger_count'].median()"
   ]
  },
  {
   "cell_type": "code",
   "execution_count": 8,
   "id": "3adcf824",
   "metadata": {},
   "outputs": [],
   "source": [
    "# memasukan nilai median pada kolom Passenger_count\n",
    "imputer = SimpleImputer(strategy='median')\n",
    "df['passenger_count'] = imputer.fit_transform(df[['passenger_count']])"
   ]
  },
  {
   "cell_type": "code",
   "execution_count": 217,
   "id": "3f22ad70",
   "metadata": {},
   "outputs": [
    {
     "data": {
      "text/plain": [
       "0"
      ]
     },
     "execution_count": 217,
     "metadata": {},
     "output_type": "execute_result"
    }
   ],
   "source": [
    "# Cek apakah masih ada missing value pada kolom Passenger_count\n",
    "df['passenger_count'].isna().sum()"
   ]
  },
  {
   "cell_type": "markdown",
   "id": "3bac6d48",
   "metadata": {},
   "source": [
    "**Congestion Surchanger**"
   ]
  },
  {
   "cell_type": "code",
   "execution_count": 447,
   "id": "684d7226",
   "metadata": {},
   "outputs": [
    {
     "data": {
      "image/png": "[encoded data removed]",
      "text/plain": [
       "<Figure size 1000x600 with 1 Axes>"
      ]
     },
     "metadata": {},
     "output_type": "display_data"
    }
   ],
   "source": [
    "plt.figure(figsize=(10, 6))\n",
    "sns.histplot(df['congestion_surcharge'], kde=True, color='#FFD700')\n",
    "plt.title(\"Histogram Data congestion_surcharge\")\n",
    "plt.show()"
   ]
  },
  {
   "cell_type": "markdown",
   "id": "93f80695",
   "metadata": {},
   "source": [
    "Dapat terlihat bahwa data congestion_surcharge lebih banyak berjumlah kurang 0, dan dengan data tidak terdistribusi normal, kita akan menggunakan simple imputer dengan metode **median**."
   ]
  },
  {
   "cell_type": "code",
   "execution_count": 223,
   "id": "f0532507",
   "metadata": {},
   "outputs": [
    {
     "data": {
      "text/plain": [
       "0.0"
      ]
     },
     "execution_count": 223,
     "metadata": {},
     "output_type": "execute_result"
    }
   ],
   "source": [
    "# nilai median\n",
    "df['congestion_surcharge'].median()"
   ]
  },
  {
   "cell_type": "code",
   "execution_count": 9,
   "id": "59d27cc8",
   "metadata": {},
   "outputs": [],
   "source": [
    "# memasukan nilai median pada kolom congestion_surcharge\n",
    "imputer = SimpleImputer(strategy='median')\n",
    "df['congestion_surcharge'] = imputer.fit_transform(df[['congestion_surcharge']])"
   ]
  },
  {
   "cell_type": "code",
   "execution_count": 225,
   "id": "8b9efc80",
   "metadata": {},
   "outputs": [
    {
     "data": {
      "text/plain": [
       "0"
      ]
     },
     "execution_count": 225,
     "metadata": {},
     "output_type": "execute_result"
    }
   ],
   "source": [
    "# Cek apakah masih ada missing value pada kolom congestion_surcharge\n",
    "df['congestion_surcharge'].isna().sum()"
   ]
  },
  {
   "cell_type": "markdown",
   "id": "946636e2",
   "metadata": {},
   "source": [
    "### Menghapus kolom yang tidak relevan\n",
    "* untuk kolom-kolom `VendorID`, `store_and_fwd_flag`, `RatecodeID`, `payment_type`, dan `trip_type` tidak memiliki relevansi untuk penyelesaian rumusan masalah sehingga bisa dihapus. Beberapa alasan untuk penghapusan beberapa kolom ini ialah:\n",
    "    * `VendorID` : kolom ini terdiri atas 2 unique value yaitu ID 1 dan ID 2, yang masing masing mewakili ID penyedia jasa Taksi di New York, akan tetapi hal ini tidak mempengaruhi analisis dimana analisis dilakukan secara menyeluruh dan tidak melihat asal penyedia jasa layanan taksi.\n",
    "    * `store_and_fwd_flag` : kolom ini untuk memberikan *flag*(tanda) bahwa data pada baris tersebut apakah diterima secara langsung oleh server atau disimpan terlebih dahulu dalam memory di mobil taksi, dan untuk analisis ini tidak melihat apakah data terkait penyimpanan data sehingga tidak relevan.\n",
    "    * `RatecodeID` : pada kolom ini terdapat 6 ID unique yang dapat diartikan sebagai kode dijadikan dasar perhitungan nilai 'fare_amount', akan tetapi hal ini tidak mempengaruhi analisis, dimana analisis hanya melihat nilai 'fare_amount' itu sendiri dan bukan bagaimana perhitungannya.\n",
    "    * `payment_type` : kolom ini berisikan data tentang bagaimana penumpang membayarkan jumlah `total_amount` ke penyedia jasa layanan taksi, dimana hal ini tidak relevan dengan analisis yang hanya melihat nilai `total_amount`.\n",
    "    * `trip_type` : kolom ini terdiri atas 2 kode yang dapat diartikan bagaimana penumpang memanggil taksi, yaitu melalui booking atau langsung menghentikan taksi, sehingga untuk kolom ini dinilai tidak relevan dengan analisis.\n",
    "* dan untuk kolom `ehail_fee` bisa dihapus juga karena keseluruhan kolomnya ialah missing value."
   ]
  },
  {
   "cell_type": "code",
   "execution_count": 10,
   "id": "ac6762f9",
   "metadata": {},
   "outputs": [],
   "source": [
    "# menghapus kolom-kolom\n",
    "df.drop(columns=['VendorID', 'store_and_fwd_flag', 'RatecodeID', 'payment_type', 'trip_type', 'ehail_fee'],inplace=True)"
   ]
  },
  {
   "cell_type": "code",
   "execution_count": 11,
   "id": "b561c68e",
   "metadata": {},
   "outputs": [
    {
     "data": {
      "text/plain": [
       "lpep_pickup_datetime     0\n",
       "lpep_dropoff_datetime    0\n",
       "PULocationID             0\n",
       "DOLocationID             0\n",
       "passenger_count          0\n",
       "trip_distance            0\n",
       "fare_amount              0\n",
       "extra                    0\n",
       "mta_tax                  0\n",
       "tip_amount               0\n",
       "tolls_amount             0\n",
       "improvement_surcharge    0\n",
       "total_amount             0\n",
       "congestion_surcharge     0\n",
       "dtype: int64"
      ]
     },
     "execution_count": 11,
     "metadata": {},
     "output_type": "execute_result"
    }
   ],
   "source": [
    "# cek jumlah missing value pada dataset\n",
    "df.isna().sum()"
   ]
  },
  {
   "cell_type": "markdown",
   "id": "f607713e",
   "metadata": {},
   "source": [
    "Data sudah dibersihkan dari missing value, akan tetapi masih terdapat data-data yang masih harus dirapihkan kembali sebelum kita memulai analisis."
   ]
  },
  {
   "cell_type": "markdown",
   "id": "01571843",
   "metadata": {},
   "source": [
    "### Nilai 0 pada kolom passenger_count"
   ]
  },
  {
   "cell_type": "code",
   "execution_count": 451,
   "id": "6b51afab",
   "metadata": {},
   "outputs": [
    {
     "data": {
      "text/plain": [
       "passenger_count\n",
       "1.0    58623\n",
       "2.0     5096\n",
       "5.0     1772\n",
       "6.0     1054\n",
       "3.0      958\n",
       "4.0      364\n",
       "0.0      336\n",
       "7.0        4\n",
       "9.0        2\n",
       "8.0        2\n",
       "Name: count, dtype: int64"
      ]
     },
     "execution_count": 451,
     "metadata": {},
     "output_type": "execute_result"
    }
   ],
   "source": [
    "df['passenger_count'].value_counts()"
   ]
  },
  {
   "cell_type": "markdown",
   "id": "41508d97",
   "metadata": {},
   "source": [
    "Terdapat **336** data yang bernilai 0. dan untuk nilai 0 ini tidak akan kita ubah karena masih ada kemungkinan bahwa taksi hanya **mengantarkan barang** milik penumpang, jadi untuk data bernilai 0 ini akan kita **biarkan apa adanya**."
   ]
  },
  {
   "cell_type": "markdown",
   "id": "866ff4e9",
   "metadata": {},
   "source": [
    "### Nilai 0 pada kolom total_amount dan trip_distance \n",
    "\n",
    "sedangkan pada `total amount` dan `trip distance`, nilai 0 ini tidak memungkinkan dikarenakan tidak mungkin ada perjalanan yang 0 mil dan tidak mungkin juga ada pembayaran yang 0\\$ untuk ini perlu dilakukan proses imputasi sederhana atau dilakukan drop row pada baris yang tidak memungkinkan dimasukan data."
   ]
  },
  {
   "cell_type": "markdown",
   "id": "bcbeac21",
   "metadata": {},
   "source": [
    "**Total Amount**\n",
    "\n",
    "untuk Total Amount mari kita lihat jumlah baris yang memiliki nilai Total Amount yang sama dengan 0."
   ]
  },
  {
   "cell_type": "code",
   "execution_count": 12,
   "id": "0b2d1cb2",
   "metadata": {},
   "outputs": [
    {
     "data": {
      "text/plain": [
       "69"
      ]
     },
     "execution_count": 12,
     "metadata": {},
     "output_type": "execute_result"
    }
   ],
   "source": [
    "# cek jumlah data bernilai 0\n",
    "(df['total_amount'] == 0).sum()"
   ]
  },
  {
   "cell_type": "markdown",
   "id": "300465f0",
   "metadata": {},
   "source": [
    "Terdapat 69 baris yang memiliki nilai 0, untuk mengisi kolom ini cukup mudah karena kolom ini merupakan nilai total dari nilai kolom-kolom lainnya, yaitu kolom `fare_amount`, `extra`, `mta_tax`, `tip_amount`, `tolls_amount`, `improvement_surcharge`, dan `congestion_surcharge`.\n",
    "\n",
    "untuk itu, cukup dilakukan penjumlahan diantara kolom-kolom diatas."
   ]
  },
  {
   "cell_type": "code",
   "execution_count": 13,
   "id": "4d43c462",
   "metadata": {},
   "outputs": [],
   "source": [
    "condition = df['total_amount'] == 0\n",
    "\n",
    "df.loc[condition, 'total_amount'] = df.loc[condition, ['fare_amount', 'extra', 'mta_tax', 'tip_amount', 'tolls_amount', 'improvement_surcharge', 'congestion_surcharge']].sum(axis=1)"
   ]
  },
  {
   "cell_type": "code",
   "execution_count": 14,
   "id": "22bcb7ea",
   "metadata": {},
   "outputs": [
    {
     "data": {
      "text/plain": [
       "69"
      ]
     },
     "execution_count": 14,
     "metadata": {},
     "output_type": "execute_result"
    }
   ],
   "source": [
    "# cek kembali\n",
    "(df['total_amount'] == 0).sum()"
   ]
  },
  {
   "cell_type": "markdown",
   "id": "2a39e4fe",
   "metadata": {},
   "source": [
    "ternyata total_amount yang bernilai 0 tetap **tidak berubah jumlahnya**, untuk itu mari kita lihat bagaimana data-data itu terlihat di dataset."
   ]
  },
  {
   "cell_type": "code",
   "execution_count": 455,
   "id": "4bb9a319",
   "metadata": {},
   "outputs": [
    {
     "data": {
      "text/html": [
       "<div>\n",
       "<style scoped>\n",
       "    .dataframe tbody tr th:only-of-type {\n",
       "        vertical-align: middle;\n",
       "    }\n",
       "\n",
       "    .dataframe tbody tr th {\n",
       "        vertical-align: top;\n",
       "    }\n",
       "\n",
       "    .dataframe thead th {\n",
       "        text-align: right;\n",
       "    }\n",
       "</style>\n",
       "<table border=\"1\" class=\"dataframe\">\n",
       "  <thead>\n",
       "    <tr style=\"text-align: right;\">\n",
       "      <th></th>\n",
       "      <th>fare_amount</th>\n",
       "      <th>extra</th>\n",
       "      <th>tip_amount</th>\n",
       "      <th>tolls_amount</th>\n",
       "      <th>improvement_surcharge</th>\n",
       "      <th>congestion_surcharge</th>\n",
       "      <th>total_amount</th>\n",
       "    </tr>\n",
       "  </thead>\n",
       "  <tbody>\n",
       "    <tr>\n",
       "      <th>1581</th>\n",
       "      <td>0.0</td>\n",
       "      <td>0.0</td>\n",
       "      <td>0.0</td>\n",
       "      <td>0.0</td>\n",
       "      <td>0.0</td>\n",
       "      <td>0.0</td>\n",
       "      <td>0.0</td>\n",
       "    </tr>\n",
       "    <tr>\n",
       "      <th>2130</th>\n",
       "      <td>0.0</td>\n",
       "      <td>0.0</td>\n",
       "      <td>0.0</td>\n",
       "      <td>0.0</td>\n",
       "      <td>0.0</td>\n",
       "      <td>0.0</td>\n",
       "      <td>0.0</td>\n",
       "    </tr>\n",
       "    <tr>\n",
       "      <th>2793</th>\n",
       "      <td>0.0</td>\n",
       "      <td>0.0</td>\n",
       "      <td>0.0</td>\n",
       "      <td>0.0</td>\n",
       "      <td>0.0</td>\n",
       "      <td>0.0</td>\n",
       "      <td>0.0</td>\n",
       "    </tr>\n",
       "    <tr>\n",
       "      <th>3557</th>\n",
       "      <td>0.0</td>\n",
       "      <td>0.0</td>\n",
       "      <td>0.0</td>\n",
       "      <td>0.0</td>\n",
       "      <td>0.0</td>\n",
       "      <td>0.0</td>\n",
       "      <td>0.0</td>\n",
       "    </tr>\n",
       "    <tr>\n",
       "      <th>3674</th>\n",
       "      <td>0.0</td>\n",
       "      <td>0.0</td>\n",
       "      <td>0.0</td>\n",
       "      <td>0.0</td>\n",
       "      <td>0.0</td>\n",
       "      <td>0.0</td>\n",
       "      <td>0.0</td>\n",
       "    </tr>\n",
       "    <tr>\n",
       "      <th>...</th>\n",
       "      <td>...</td>\n",
       "      <td>...</td>\n",
       "      <td>...</td>\n",
       "      <td>...</td>\n",
       "      <td>...</td>\n",
       "      <td>...</td>\n",
       "      <td>...</td>\n",
       "    </tr>\n",
       "    <tr>\n",
       "      <th>59955</th>\n",
       "      <td>0.0</td>\n",
       "      <td>0.0</td>\n",
       "      <td>0.0</td>\n",
       "      <td>0.0</td>\n",
       "      <td>0.0</td>\n",
       "      <td>0.0</td>\n",
       "      <td>0.0</td>\n",
       "    </tr>\n",
       "    <tr>\n",
       "      <th>60098</th>\n",
       "      <td>0.0</td>\n",
       "      <td>0.0</td>\n",
       "      <td>0.0</td>\n",
       "      <td>0.0</td>\n",
       "      <td>0.0</td>\n",
       "      <td>0.0</td>\n",
       "      <td>0.0</td>\n",
       "    </tr>\n",
       "    <tr>\n",
       "      <th>60315</th>\n",
       "      <td>0.0</td>\n",
       "      <td>0.0</td>\n",
       "      <td>0.0</td>\n",
       "      <td>0.0</td>\n",
       "      <td>0.0</td>\n",
       "      <td>0.0</td>\n",
       "      <td>0.0</td>\n",
       "    </tr>\n",
       "    <tr>\n",
       "      <th>61178</th>\n",
       "      <td>0.0</td>\n",
       "      <td>0.0</td>\n",
       "      <td>0.0</td>\n",
       "      <td>0.0</td>\n",
       "      <td>0.0</td>\n",
       "      <td>0.0</td>\n",
       "      <td>0.0</td>\n",
       "    </tr>\n",
       "    <tr>\n",
       "      <th>61980</th>\n",
       "      <td>0.0</td>\n",
       "      <td>0.0</td>\n",
       "      <td>0.0</td>\n",
       "      <td>0.0</td>\n",
       "      <td>0.0</td>\n",
       "      <td>0.0</td>\n",
       "      <td>0.0</td>\n",
       "    </tr>\n",
       "  </tbody>\n",
       "</table>\n",
       "<p>69 rows × 7 columns</p>\n",
       "</div>"
      ],
      "text/plain": [
       "       fare_amount  extra  tip_amount  tolls_amount  improvement_surcharge  \\\n",
       "1581           0.0    0.0         0.0           0.0                    0.0   \n",
       "2130           0.0    0.0         0.0           0.0                    0.0   \n",
       "2793           0.0    0.0         0.0           0.0                    0.0   \n",
       "3557           0.0    0.0         0.0           0.0                    0.0   \n",
       "3674           0.0    0.0         0.0           0.0                    0.0   \n",
       "...            ...    ...         ...           ...                    ...   \n",
       "59955          0.0    0.0         0.0           0.0                    0.0   \n",
       "60098          0.0    0.0         0.0           0.0                    0.0   \n",
       "60315          0.0    0.0         0.0           0.0                    0.0   \n",
       "61178          0.0    0.0         0.0           0.0                    0.0   \n",
       "61980          0.0    0.0         0.0           0.0                    0.0   \n",
       "\n",
       "       congestion_surcharge  total_amount  \n",
       "1581                    0.0           0.0  \n",
       "2130                    0.0           0.0  \n",
       "2793                    0.0           0.0  \n",
       "3557                    0.0           0.0  \n",
       "3674                    0.0           0.0  \n",
       "...                     ...           ...  \n",
       "59955                   0.0           0.0  \n",
       "60098                   0.0           0.0  \n",
       "60315                   0.0           0.0  \n",
       "61178                   0.0           0.0  \n",
       "61980                   0.0           0.0  \n",
       "\n",
       "[69 rows x 7 columns]"
      ]
     },
     "execution_count": 455,
     "metadata": {},
     "output_type": "execute_result"
    }
   ],
   "source": [
    "df[['fare_amount','extra','tip_amount','tolls_amount','improvement_surcharge','congestion_surcharge','total_amount']][df['total_amount'] == 0]"
   ]
  },
  {
   "cell_type": "markdown",
   "id": "0924f38f",
   "metadata": {},
   "source": [
    "Terlihat dari dataset bahwa ke 69 baris tersebut juga memiliki 7 kolom lainnya bernilai 0, untuk ini maka baris-baris ini dapat dihapus."
   ]
  },
  {
   "cell_type": "code",
   "execution_count": 15,
   "id": "ed76a3e4",
   "metadata": {},
   "outputs": [],
   "source": [
    "# menghapus nilai 0 dari total_amount\n",
    "df = df.loc[df['total_amount'] != 0]"
   ]
  },
  {
   "cell_type": "code",
   "execution_count": 16,
   "id": "bb96e997",
   "metadata": {},
   "outputs": [
    {
     "data": {
      "text/plain": [
       "0"
      ]
     },
     "execution_count": 16,
     "metadata": {},
     "output_type": "execute_result"
    }
   ],
   "source": [
    "# cek kembali\n",
    "(df['total_amount'] == 0).sum()"
   ]
  },
  {
   "cell_type": "markdown",
   "id": "4b30524b",
   "metadata": {},
   "source": [
    "**Trip Distance**\n",
    "\n",
    "dan selanjutnya untuk Trip Distance, mari kita lihat juga jumlah baris yang memiliki nilai Trip distance = 0."
   ]
  },
  {
   "cell_type": "code",
   "execution_count": 17,
   "id": "b2734458",
   "metadata": {},
   "outputs": [
    {
     "data": {
      "text/plain": [
       "3290"
      ]
     },
     "execution_count": 17,
     "metadata": {},
     "output_type": "execute_result"
    }
   ],
   "source": [
    "# cek jumlah data bernilai 0\n",
    "(df['trip_distance'] == 0).sum()"
   ]
  },
  {
   "cell_type": "code",
   "execution_count": 459,
   "id": "43a4cd26",
   "metadata": {},
   "outputs": [
    {
     "data": {
      "text/plain": [
       "4.828152974670541"
      ]
     },
     "execution_count": 459,
     "metadata": {},
     "output_type": "execute_result"
    }
   ],
   "source": [
    "# persentase trip distance bernilai 0\n",
    "(df['trip_distance']==0).sum()/len(df['trip_distance'])*100"
   ]
  },
  {
   "cell_type": "markdown",
   "id": "c08b5838",
   "metadata": {},
   "source": [
    "untuk trip distance yang bernilai 0, tidak terlalu banyak yaitu sebanyak 3.290 baris atau 4,82% dari keseluruhan data di kolom trip distance dan juga akan sulit untuk menentukan nilai yang ingin diinput, sehingga bisa kita drop untuk baris yang bernilai 0."
   ]
  },
  {
   "cell_type": "code",
   "execution_count": 18,
   "id": "6850ee44",
   "metadata": {},
   "outputs": [],
   "source": [
    "# menghapus baris yang bernilai 0\n",
    "df = df.loc[df['trip_distance'] != 0]"
   ]
  },
  {
   "cell_type": "code",
   "execution_count": 19,
   "id": "7a4aaaed",
   "metadata": {},
   "outputs": [
    {
     "data": {
      "text/plain": [
       "0"
      ]
     },
     "execution_count": 19,
     "metadata": {},
     "output_type": "execute_result"
    }
   ],
   "source": [
    "# cek kembali jumlah data bernilai 0\n",
    "(df['trip_distance'] == 0).sum()"
   ]
  },
  {
   "cell_type": "code",
   "execution_count": 20,
   "id": "1c0a9166",
   "metadata": {},
   "outputs": [
    {
     "data": {
      "text/html": [
       "<div>\n",
       "<style scoped>\n",
       "    .dataframe tbody tr th:only-of-type {\n",
       "        vertical-align: middle;\n",
       "    }\n",
       "\n",
       "    .dataframe tbody tr th {\n",
       "        vertical-align: top;\n",
       "    }\n",
       "\n",
       "    .dataframe thead th {\n",
       "        text-align: right;\n",
       "    }\n",
       "</style>\n",
       "<table border=\"1\" class=\"dataframe\">\n",
       "  <thead>\n",
       "    <tr style=\"text-align: right;\">\n",
       "      <th></th>\n",
       "      <th>trip_distance</th>\n",
       "      <th>fare_amount</th>\n",
       "    </tr>\n",
       "  </thead>\n",
       "  <tbody>\n",
       "    <tr>\n",
       "      <th>0</th>\n",
       "      <td>2.58</td>\n",
       "      <td>14.90</td>\n",
       "    </tr>\n",
       "    <tr>\n",
       "      <th>1</th>\n",
       "      <td>1.81</td>\n",
       "      <td>10.70</td>\n",
       "    </tr>\n",
       "    <tr>\n",
       "      <th>3</th>\n",
       "      <td>1.30</td>\n",
       "      <td>6.50</td>\n",
       "    </tr>\n",
       "    <tr>\n",
       "      <th>4</th>\n",
       "      <td>1.10</td>\n",
       "      <td>6.00</td>\n",
       "    </tr>\n",
       "    <tr>\n",
       "      <th>5</th>\n",
       "      <td>2.78</td>\n",
       "      <td>17.70</td>\n",
       "    </tr>\n",
       "    <tr>\n",
       "      <th>...</th>\n",
       "      <td>...</td>\n",
       "      <td>...</td>\n",
       "    </tr>\n",
       "    <tr>\n",
       "      <th>68206</th>\n",
       "      <td>4070.82</td>\n",
       "      <td>15.70</td>\n",
       "    </tr>\n",
       "    <tr>\n",
       "      <th>68207</th>\n",
       "      <td>2.14</td>\n",
       "      <td>4.41</td>\n",
       "    </tr>\n",
       "    <tr>\n",
       "      <th>68208</th>\n",
       "      <td>3.44</td>\n",
       "      <td>16.53</td>\n",
       "    </tr>\n",
       "    <tr>\n",
       "      <th>68209</th>\n",
       "      <td>3.03</td>\n",
       "      <td>14.98</td>\n",
       "    </tr>\n",
       "    <tr>\n",
       "      <th>68210</th>\n",
       "      <td>5.82</td>\n",
       "      <td>23.65</td>\n",
       "    </tr>\n",
       "  </tbody>\n",
       "</table>\n",
       "<p>64852 rows × 2 columns</p>\n",
       "</div>"
      ],
      "text/plain": [
       "       trip_distance  fare_amount\n",
       "0               2.58        14.90\n",
       "1               1.81        10.70\n",
       "3               1.30         6.50\n",
       "4               1.10         6.00\n",
       "5               2.78        17.70\n",
       "...              ...          ...\n",
       "68206        4070.82        15.70\n",
       "68207           2.14         4.41\n",
       "68208           3.44        16.53\n",
       "68209           3.03        14.98\n",
       "68210           5.82        23.65\n",
       "\n",
       "[64852 rows x 2 columns]"
      ]
     },
     "execution_count": 20,
     "metadata": {},
     "output_type": "execute_result"
    }
   ],
   "source": [
    "# cek perbandingan \n",
    "df[['trip_distance','fare_amount']]"
   ]
  },
  {
   "cell_type": "markdown",
   "id": "c50e43a6",
   "metadata": {},
   "source": [
    "terlihat sekilas pada perbandingan diatas bahwa terdapat `trip_distance` dengan nilai extreme (**outlier**) yaitu **4.070 mil** dan dengan `fare_amount` yang tergolong normal, yang menjadikan nilai ekstrim itu kemungkinan besar adalah kesalah input.\n",
    "\n",
    "untuk memproses outlier tersebut, mari kita lihat data secara keseluruhan melalui boxplot."
   ]
  },
  {
   "cell_type": "code",
   "execution_count": 394,
   "id": "b76b7135",
   "metadata": {},
   "outputs": [
    {
     "data": {
      "image/png": "[encoded data removed]",
      "text/plain": [
       "<Figure size 1000x600 with 1 Axes>"
      ]
     },
     "metadata": {},
     "output_type": "display_data"
    }
   ],
   "source": [
    "plt.figure(figsize=(10, 6))\n",
    "sns.boxplot(x=df['trip_distance'])\n",
    "plt.title(\"Boxplot Trip Distance\")\n",
    "plt.xlabel(\"Perjalanan dalam Mil\")\n",
    "plt.show()"
   ]
  },
  {
   "cell_type": "markdown",
   "id": "2cf15595",
   "metadata": {},
   "source": [
    "Terlihat bahwa boxplot dipenuhi dengan data-data yang bernilai sangat ekstrim.\n",
    "\n",
    "untuk itu mari kita coba melihat jumlah `trip_distance` yang bernilai diatas 50 mil."
   ]
  },
  {
   "cell_type": "code",
   "execution_count": 21,
   "id": "138f39af",
   "metadata": {},
   "outputs": [
    {
     "data": {
      "text/plain": [
       "40"
      ]
     },
     "execution_count": 21,
     "metadata": {},
     "output_type": "execute_result"
    }
   ],
   "source": [
    "# cek jumlah data bernilai diatas 50\n",
    "(df['trip_distance'] > 50).sum()"
   ]
  },
  {
   "cell_type": "code",
   "execution_count": 22,
   "id": "2d3f4fa3",
   "metadata": {},
   "outputs": [
    {
     "data": {
      "text/html": [
       "<div>\n",
       "<style scoped>\n",
       "    .dataframe tbody tr th:only-of-type {\n",
       "        vertical-align: middle;\n",
       "    }\n",
       "\n",
       "    .dataframe tbody tr th {\n",
       "        vertical-align: top;\n",
       "    }\n",
       "\n",
       "    .dataframe thead th {\n",
       "        text-align: right;\n",
       "    }\n",
       "</style>\n",
       "<table border=\"1\" class=\"dataframe\">\n",
       "  <thead>\n",
       "    <tr style=\"text-align: right;\">\n",
       "      <th></th>\n",
       "      <th>trip_distance</th>\n",
       "      <th>fare_amount</th>\n",
       "    </tr>\n",
       "  </thead>\n",
       "  <tbody>\n",
       "    <tr>\n",
       "      <th>7322</th>\n",
       "      <td>66.18</td>\n",
       "      <td>15.00</td>\n",
       "    </tr>\n",
       "    <tr>\n",
       "      <th>33373</th>\n",
       "      <td>1571.97</td>\n",
       "      <td>29.97</td>\n",
       "    </tr>\n",
       "    <tr>\n",
       "      <th>43013</th>\n",
       "      <td>57.09</td>\n",
       "      <td>205.30</td>\n",
       "    </tr>\n",
       "    <tr>\n",
       "      <th>48770</th>\n",
       "      <td>53.72</td>\n",
       "      <td>0.01</td>\n",
       "    </tr>\n",
       "    <tr>\n",
       "      <th>63995</th>\n",
       "      <td>579.63</td>\n",
       "      <td>28.49</td>\n",
       "    </tr>\n",
       "    <tr>\n",
       "      <th>64446</th>\n",
       "      <td>2555.47</td>\n",
       "      <td>23.68</td>\n",
       "    </tr>\n",
       "    <tr>\n",
       "      <th>64558</th>\n",
       "      <td>3077.89</td>\n",
       "      <td>12.02</td>\n",
       "    </tr>\n",
       "    <tr>\n",
       "      <th>64572</th>\n",
       "      <td>2606.52</td>\n",
       "      <td>11.00</td>\n",
       "    </tr>\n",
       "    <tr>\n",
       "      <th>64609</th>\n",
       "      <td>43392.12</td>\n",
       "      <td>12.02</td>\n",
       "    </tr>\n",
       "    <tr>\n",
       "      <th>64695</th>\n",
       "      <td>137.95</td>\n",
       "      <td>44.90</td>\n",
       "    </tr>\n",
       "    <tr>\n",
       "      <th>64947</th>\n",
       "      <td>2446.53</td>\n",
       "      <td>23.89</td>\n",
       "    </tr>\n",
       "    <tr>\n",
       "      <th>64954</th>\n",
       "      <td>2027.31</td>\n",
       "      <td>20.64</td>\n",
       "    </tr>\n",
       "    <tr>\n",
       "      <th>65149</th>\n",
       "      <td>1082.45</td>\n",
       "      <td>49.80</td>\n",
       "    </tr>\n",
       "    <tr>\n",
       "      <th>65194</th>\n",
       "      <td>120098.84</td>\n",
       "      <td>46.82</td>\n",
       "    </tr>\n",
       "    <tr>\n",
       "      <th>65277</th>\n",
       "      <td>2645.65</td>\n",
       "      <td>12.18</td>\n",
       "    </tr>\n",
       "    <tr>\n",
       "      <th>65306</th>\n",
       "      <td>3965.74</td>\n",
       "      <td>56.16</td>\n",
       "    </tr>\n",
       "    <tr>\n",
       "      <th>65452</th>\n",
       "      <td>1592.66</td>\n",
       "      <td>67.03</td>\n",
       "    </tr>\n",
       "    <tr>\n",
       "      <th>65491</th>\n",
       "      <td>2378.17</td>\n",
       "      <td>17.54</td>\n",
       "    </tr>\n",
       "    <tr>\n",
       "      <th>65725</th>\n",
       "      <td>3515.74</td>\n",
       "      <td>12.02</td>\n",
       "    </tr>\n",
       "    <tr>\n",
       "      <th>65846</th>\n",
       "      <td>10480.36</td>\n",
       "      <td>20.01</td>\n",
       "    </tr>\n",
       "    <tr>\n",
       "      <th>66337</th>\n",
       "      <td>1802.82</td>\n",
       "      <td>13.26</td>\n",
       "    </tr>\n",
       "    <tr>\n",
       "      <th>66344</th>\n",
       "      <td>2635.30</td>\n",
       "      <td>28.30</td>\n",
       "    </tr>\n",
       "    <tr>\n",
       "      <th>66452</th>\n",
       "      <td>4389.24</td>\n",
       "      <td>12.30</td>\n",
       "    </tr>\n",
       "    <tr>\n",
       "      <th>66566</th>\n",
       "      <td>2367.12</td>\n",
       "      <td>26.03</td>\n",
       "    </tr>\n",
       "    <tr>\n",
       "      <th>66580</th>\n",
       "      <td>254.65</td>\n",
       "      <td>45.44</td>\n",
       "    </tr>\n",
       "    <tr>\n",
       "      <th>66581</th>\n",
       "      <td>44003.31</td>\n",
       "      <td>26.33</td>\n",
       "    </tr>\n",
       "    <tr>\n",
       "      <th>66713</th>\n",
       "      <td>4502.86</td>\n",
       "      <td>26.20</td>\n",
       "    </tr>\n",
       "    <tr>\n",
       "      <th>66724</th>\n",
       "      <td>3508.51</td>\n",
       "      <td>40.06</td>\n",
       "    </tr>\n",
       "    <tr>\n",
       "      <th>66804</th>\n",
       "      <td>2011.26</td>\n",
       "      <td>12.27</td>\n",
       "    </tr>\n",
       "    <tr>\n",
       "      <th>66811</th>\n",
       "      <td>3940.97</td>\n",
       "      <td>13.64</td>\n",
       "    </tr>\n",
       "    <tr>\n",
       "      <th>66842</th>\n",
       "      <td>3981.90</td>\n",
       "      <td>18.75</td>\n",
       "    </tr>\n",
       "    <tr>\n",
       "      <th>67126</th>\n",
       "      <td>3614.44</td>\n",
       "      <td>11.00</td>\n",
       "    </tr>\n",
       "    <tr>\n",
       "      <th>67153</th>\n",
       "      <td>1543.13</td>\n",
       "      <td>19.24</td>\n",
       "    </tr>\n",
       "    <tr>\n",
       "      <th>67272</th>\n",
       "      <td>2464.34</td>\n",
       "      <td>46.72</td>\n",
       "    </tr>\n",
       "    <tr>\n",
       "      <th>67307</th>\n",
       "      <td>3321.43</td>\n",
       "      <td>18.48</td>\n",
       "    </tr>\n",
       "    <tr>\n",
       "      <th>67415</th>\n",
       "      <td>4707.37</td>\n",
       "      <td>13.60</td>\n",
       "    </tr>\n",
       "    <tr>\n",
       "      <th>67926</th>\n",
       "      <td>68796.82</td>\n",
       "      <td>24.90</td>\n",
       "    </tr>\n",
       "    <tr>\n",
       "      <th>67973</th>\n",
       "      <td>2388.79</td>\n",
       "      <td>26.68</td>\n",
       "    </tr>\n",
       "    <tr>\n",
       "      <th>68184</th>\n",
       "      <td>3008.62</td>\n",
       "      <td>13.30</td>\n",
       "    </tr>\n",
       "    <tr>\n",
       "      <th>68206</th>\n",
       "      <td>4070.82</td>\n",
       "      <td>15.70</td>\n",
       "    </tr>\n",
       "  </tbody>\n",
       "</table>\n",
       "</div>"
      ],
      "text/plain": [
       "       trip_distance  fare_amount\n",
       "7322           66.18        15.00\n",
       "33373        1571.97        29.97\n",
       "43013          57.09       205.30\n",
       "48770          53.72         0.01\n",
       "63995         579.63        28.49\n",
       "64446        2555.47        23.68\n",
       "64558        3077.89        12.02\n",
       "64572        2606.52        11.00\n",
       "64609       43392.12        12.02\n",
       "64695         137.95        44.90\n",
       "64947        2446.53        23.89\n",
       "64954        2027.31        20.64\n",
       "65149        1082.45        49.80\n",
       "65194      120098.84        46.82\n",
       "65277        2645.65        12.18\n",
       "65306        3965.74        56.16\n",
       "65452        1592.66        67.03\n",
       "65491        2378.17        17.54\n",
       "65725        3515.74        12.02\n",
       "65846       10480.36        20.01\n",
       "66337        1802.82        13.26\n",
       "66344        2635.30        28.30\n",
       "66452        4389.24        12.30\n",
       "66566        2367.12        26.03\n",
       "66580         254.65        45.44\n",
       "66581       44003.31        26.33\n",
       "66713        4502.86        26.20\n",
       "66724        3508.51        40.06\n",
       "66804        2011.26        12.27\n",
       "66811        3940.97        13.64\n",
       "66842        3981.90        18.75\n",
       "67126        3614.44        11.00\n",
       "67153        1543.13        19.24\n",
       "67272        2464.34        46.72\n",
       "67307        3321.43        18.48\n",
       "67415        4707.37        13.60\n",
       "67926       68796.82        24.90\n",
       "67973        2388.79        26.68\n",
       "68184        3008.62        13.30\n",
       "68206        4070.82        15.70"
      ]
     },
     "execution_count": 22,
     "metadata": {},
     "output_type": "execute_result"
    }
   ],
   "source": [
    "# cek data-data bernilai diatas 50\n",
    "df[['trip_distance', 'fare_amount']][(df['trip_distance'] > 50)]"
   ]
  },
  {
   "cell_type": "markdown",
   "id": "bf2d0045",
   "metadata": {},
   "source": [
    "dari data diatas sekilas terlihat bahwa dari 40 data pencilan, masih ada data yang terlihat normal, yaitu dengan `fare_amount` diatas 100$."
   ]
  },
  {
   "cell_type": "code",
   "execution_count": 23,
   "id": "f234a81f",
   "metadata": {},
   "outputs": [
    {
     "data": {
      "text/html": [
       "<div>\n",
       "<style scoped>\n",
       "    .dataframe tbody tr th:only-of-type {\n",
       "        vertical-align: middle;\n",
       "    }\n",
       "\n",
       "    .dataframe tbody tr th {\n",
       "        vertical-align: top;\n",
       "    }\n",
       "\n",
       "    .dataframe thead th {\n",
       "        text-align: right;\n",
       "    }\n",
       "</style>\n",
       "<table border=\"1\" class=\"dataframe\">\n",
       "  <thead>\n",
       "    <tr style=\"text-align: right;\">\n",
       "      <th></th>\n",
       "      <th>lpep_pickup_datetime</th>\n",
       "      <th>lpep_dropoff_datetime</th>\n",
       "      <th>PULocationID</th>\n",
       "      <th>DOLocationID</th>\n",
       "      <th>passenger_count</th>\n",
       "      <th>trip_distance</th>\n",
       "      <th>fare_amount</th>\n",
       "      <th>extra</th>\n",
       "      <th>mta_tax</th>\n",
       "      <th>tip_amount</th>\n",
       "      <th>tolls_amount</th>\n",
       "      <th>improvement_surcharge</th>\n",
       "      <th>total_amount</th>\n",
       "      <th>congestion_surcharge</th>\n",
       "    </tr>\n",
       "  </thead>\n",
       "  <tbody>\n",
       "    <tr>\n",
       "      <th>43013</th>\n",
       "      <td>2023-01-22 10:39:49</td>\n",
       "      <td>2023-01-22 11:48:18</td>\n",
       "      <td>82</td>\n",
       "      <td>265</td>\n",
       "      <td>1.0</td>\n",
       "      <td>57.09</td>\n",
       "      <td>205.3</td>\n",
       "      <td>0.0</td>\n",
       "      <td>0.5</td>\n",
       "      <td>0.0</td>\n",
       "      <td>0.0</td>\n",
       "      <td>1.0</td>\n",
       "      <td>206.8</td>\n",
       "      <td>0.0</td>\n",
       "    </tr>\n",
       "  </tbody>\n",
       "</table>\n",
       "</div>"
      ],
      "text/plain": [
       "      lpep_pickup_datetime lpep_dropoff_datetime  PULocationID  DOLocationID  \\\n",
       "43013  2023-01-22 10:39:49   2023-01-22 11:48:18            82           265   \n",
       "\n",
       "       passenger_count  trip_distance  fare_amount  extra  mta_tax  \\\n",
       "43013              1.0          57.09        205.3    0.0      0.5   \n",
       "\n",
       "       tip_amount  tolls_amount  improvement_surcharge  total_amount  \\\n",
       "43013         0.0           0.0                    1.0         206.8   \n",
       "\n",
       "       congestion_surcharge  \n",
       "43013                   0.0  "
      ]
     },
     "execution_count": 23,
     "metadata": {},
     "output_type": "execute_result"
    }
   ],
   "source": [
    "# cek jumlah data bernilai normal\n",
    "df[(df['trip_distance'] > 50) & (df['fare_amount'] > 100)]"
   ]
  },
  {
   "cell_type": "markdown",
   "id": "b7f8c549",
   "metadata": {},
   "source": [
    "Terlihat diatas bahwa data dengan jarak perjalanan diatas 50 mil seharusnya memiliki tarif dasar yang setidaknya diatas 100$.\n",
    "\n",
    "untuk itu, maka data `trip_distance` yang tidak berkorelasi dengan nilai `fare_amount` untuk dapat dihapus."
   ]
  },
  {
   "cell_type": "code",
   "execution_count": 24,
   "id": "7a2a0e02",
   "metadata": {},
   "outputs": [],
   "source": [
    "# menghapus data data pencilan trip_distance yang tidak berkorelasi dengan fare_amount\n",
    "df = df.loc[~((df['trip_distance'] > 50) & (df['fare_amount'] < 100))]"
   ]
  },
  {
   "cell_type": "code",
   "execution_count": 25,
   "id": "55d120f9",
   "metadata": {},
   "outputs": [
    {
     "data": {
      "image/png": "[encoded data removed]",
      "text/plain": [
       "<Figure size 1000x600 with 1 Axes>"
      ]
     },
     "metadata": {},
     "output_type": "display_data"
    }
   ],
   "source": [
    "#cek kembali data pencilan dengan Boxplot\n",
    "plt.figure(figsize=(10, 6))\n",
    "sns.boxplot(x=df['trip_distance'], color='#FFD700')\n",
    "plt.title(\"Boxplot Trip Distance\")\n",
    "plt.xlabel(\"Perjalanan dalam Mil\")\n",
    "plt.show()"
   ]
  },
  {
   "cell_type": "code",
   "execution_count": 488,
   "id": "263fb605",
   "metadata": {},
   "outputs": [
    {
     "data": {
      "text/plain": [
       "1.93"
      ]
     },
     "execution_count": 488,
     "metadata": {},
     "output_type": "execute_result"
    }
   ],
   "source": [
    "df['trip_distance'].median()"
   ]
  },
  {
   "cell_type": "markdown",
   "id": "1d8b992a",
   "metadata": {},
   "source": [
    "Terlihat melalui boxplot bahwa masih terdapat data pencilan pada `trip_distance` yang jaraknya tidak seekstrim pada data sebelum dihapus dan terlihat memiliki nilai median pada 1,93 mil."
   ]
  },
  {
   "cell_type": "markdown",
   "id": "570c5941",
   "metadata": {},
   "source": [
    "## Binning data Trip Distance"
   ]
  },
  {
   "cell_type": "markdown",
   "id": "c9bb4ff9",
   "metadata": {},
   "source": [
    "setelah dipastikan bahwa data trip_distance sudah bernilai diatas 0, mari kita kategorikan panjang perjalanan menjadi tiga kategori yaitu perjalanan **pendek, medium, dan panjang**. \n",
    "\n",
    "kategori ini akan didasarkan pada **sebaran persentil** kurangnya domain knowledge pada analis tentang berapa jarak yang dapat dikategorikan pendek ataupun panjang dan agar penggunaan data 'trip distance' ini tidak terpengaruh akan outlier yang ada didalamnya. hal ini seharusnya tidak menjadi masalah dimana pada analisis ini kita hanya akan melihat banyaknya sebaran jenis trip pada setiap borough. "
   ]
  },
  {
   "cell_type": "code",
   "execution_count": 26,
   "id": "40a1e633",
   "metadata": {},
   "outputs": [],
   "source": [
    "# membuat batasan dari nilai percentil\n",
    "bin_edges = np.percentile(df['trip_distance'], [0, 25, 75, 100])\n",
    "\n",
    "# membuat kolom baru berdasarkan tiga label binning\n",
    "df['distance_category'] = pd.cut(df['trip_distance'], bins=bin_edges, labels=['Short', 'Medium', 'Long'], right=False)"
   ]
  },
  {
   "cell_type": "code",
   "execution_count": 27,
   "id": "c188938a",
   "metadata": {},
   "outputs": [
    {
     "data": {
      "text/plain": [
       "1"
      ]
     },
     "execution_count": 27,
     "metadata": {},
     "output_type": "execute_result"
    }
   ],
   "source": [
    "# cek apakah ada data null\n",
    "df['distance_category'].isnull().sum()"
   ]
  },
  {
   "cell_type": "code",
   "execution_count": 28,
   "id": "7922d1b4",
   "metadata": {},
   "outputs": [
    {
     "data": {
      "text/html": [
       "<div>\n",
       "<style scoped>\n",
       "    .dataframe tbody tr th:only-of-type {\n",
       "        vertical-align: middle;\n",
       "    }\n",
       "\n",
       "    .dataframe tbody tr th {\n",
       "        vertical-align: top;\n",
       "    }\n",
       "\n",
       "    .dataframe thead th {\n",
       "        text-align: right;\n",
       "    }\n",
       "</style>\n",
       "<table border=\"1\" class=\"dataframe\">\n",
       "  <thead>\n",
       "    <tr style=\"text-align: right;\">\n",
       "      <th></th>\n",
       "      <th>lpep_pickup_datetime</th>\n",
       "      <th>lpep_dropoff_datetime</th>\n",
       "      <th>PULocationID</th>\n",
       "      <th>DOLocationID</th>\n",
       "      <th>passenger_count</th>\n",
       "      <th>trip_distance</th>\n",
       "      <th>fare_amount</th>\n",
       "      <th>extra</th>\n",
       "      <th>mta_tax</th>\n",
       "      <th>tip_amount</th>\n",
       "      <th>tolls_amount</th>\n",
       "      <th>improvement_surcharge</th>\n",
       "      <th>total_amount</th>\n",
       "      <th>congestion_surcharge</th>\n",
       "      <th>distance_category</th>\n",
       "    </tr>\n",
       "  </thead>\n",
       "  <tbody>\n",
       "    <tr>\n",
       "      <th>43013</th>\n",
       "      <td>2023-01-22 10:39:49</td>\n",
       "      <td>2023-01-22 11:48:18</td>\n",
       "      <td>82</td>\n",
       "      <td>265</td>\n",
       "      <td>1.0</td>\n",
       "      <td>57.09</td>\n",
       "      <td>205.3</td>\n",
       "      <td>0.0</td>\n",
       "      <td>0.5</td>\n",
       "      <td>0.0</td>\n",
       "      <td>0.0</td>\n",
       "      <td>1.0</td>\n",
       "      <td>206.8</td>\n",
       "      <td>0.0</td>\n",
       "      <td>NaN</td>\n",
       "    </tr>\n",
       "  </tbody>\n",
       "</table>\n",
       "</div>"
      ],
      "text/plain": [
       "      lpep_pickup_datetime lpep_dropoff_datetime  PULocationID  DOLocationID  \\\n",
       "43013  2023-01-22 10:39:49   2023-01-22 11:48:18            82           265   \n",
       "\n",
       "       passenger_count  trip_distance  fare_amount  extra  mta_tax  \\\n",
       "43013              1.0          57.09        205.3    0.0      0.5   \n",
       "\n",
       "       tip_amount  tolls_amount  improvement_surcharge  total_amount  \\\n",
       "43013         0.0           0.0                    1.0         206.8   \n",
       "\n",
       "       congestion_surcharge distance_category  \n",
       "43013                   0.0               NaN  "
      ]
     },
     "execution_count": 28,
     "metadata": {},
     "output_type": "execute_result"
    }
   ],
   "source": [
    "# cek data yang bernilai null\n",
    "df[df['distance_category'].isnull()]"
   ]
  },
  {
   "cell_type": "markdown",
   "id": "902a4221",
   "metadata": {},
   "source": [
    "ternyata untuk **data bernilai maksimum** tidak masuk kedalam kategori, oleh karena itu kita akan masukan ke dalam kategori 'long' secara manual."
   ]
  },
  {
   "cell_type": "code",
   "execution_count": 29,
   "id": "f3a33fbe",
   "metadata": {},
   "outputs": [],
   "source": [
    "df['distance_category'].fillna('Long', inplace=True)"
   ]
  },
  {
   "cell_type": "code",
   "execution_count": 30,
   "id": "c3b7de12",
   "metadata": {},
   "outputs": [
    {
     "data": {
      "text/plain": [
       "0"
      ]
     },
     "execution_count": 30,
     "metadata": {},
     "output_type": "execute_result"
    }
   ],
   "source": [
    "# cek kembali data null\n",
    "df['distance_category'].isnull().sum()"
   ]
  },
  {
   "cell_type": "code",
   "execution_count": 531,
   "id": "b94fec2b",
   "metadata": {},
   "outputs": [
    {
     "data": {
      "image/png": "[encoded data removed]",
      "text/plain": [
       "<Figure size 700x400 with 1 Axes>"
      ]
     },
     "metadata": {},
     "output_type": "display_data"
    }
   ],
   "source": [
    "# buat histogram untuk melihat sebaran data\n",
    "plt.figure(figsize=(7, 4))\n",
    "sns.histplot(df['distance_category'], bins=range(0, 3), discrete=True, color='#FFD700')\n",
    "plt.title('Histogram Sebaran Data Kategori Panjang Perjalanan')\n",
    "plt.xlabel('Kategori Panjang Perjalanan')\n",
    "plt.ylabel('Jumlah Trip')\n",
    "plt.xticks(range(0, 3))\n",
    "plt.show()"
   ]
  },
  {
   "cell_type": "markdown",
   "id": "ffb326d1",
   "metadata": {},
   "source": [
    "sesuai dengan perkiraan, bahwa terlihat pada histogram untuk sebaran data kategori panjang perjalanan ialah normal, yang dikarenakan menggunakan binning dengan percentil."
   ]
  },
  {
   "cell_type": "markdown",
   "id": "a498b10e",
   "metadata": {},
   "source": [
    "### Mengubah data ID lokasi menjadi Borough\n",
    "\n",
    "Pada dataset NYC TLC Trip Record, lokasi penjemputan dan penurunan penumpang hanya diberikan ID lokasi nya saja, yaitu berupa kolom PULocationID (*Pick Up Location ID*) dan DOLocationID (*Drop Off Location ID*), untuk itu diperlukan data dari tabel tambahan yang dapat menjelaskan arti dari ID lokasi tersebut(*Lookup Table*).\n",
    "\n",
    "Untuk Lookup Table tersebut dapat didownload pada [link](https://www.nyc.gov/site/tlc/about/tlc-trip-record-data.page) berikut.\n",
    "\n"
   ]
  },
  {
   "cell_type": "code",
   "execution_count": 31,
   "id": "6d0b426b",
   "metadata": {},
   "outputs": [
    {
     "data": {
      "text/html": [
       "<div>\n",
       "<style scoped>\n",
       "    .dataframe tbody tr th:only-of-type {\n",
       "        vertical-align: middle;\n",
       "    }\n",
       "\n",
       "    .dataframe tbody tr th {\n",
       "        vertical-align: top;\n",
       "    }\n",
       "\n",
       "    .dataframe thead th {\n",
       "        text-align: right;\n",
       "    }\n",
       "</style>\n",
       "<table border=\"1\" class=\"dataframe\">\n",
       "  <thead>\n",
       "    <tr style=\"text-align: right;\">\n",
       "      <th></th>\n",
       "      <th>lpep_pickup_datetime</th>\n",
       "      <th>lpep_dropoff_datetime</th>\n",
       "      <th>PULocationID</th>\n",
       "      <th>DOLocationID</th>\n",
       "      <th>passenger_count</th>\n",
       "      <th>trip_distance</th>\n",
       "      <th>fare_amount</th>\n",
       "      <th>extra</th>\n",
       "      <th>mta_tax</th>\n",
       "      <th>tip_amount</th>\n",
       "      <th>tolls_amount</th>\n",
       "      <th>improvement_surcharge</th>\n",
       "      <th>total_amount</th>\n",
       "      <th>congestion_surcharge</th>\n",
       "      <th>distance_category</th>\n",
       "      <th>LocationID_x</th>\n",
       "      <th>pickup_borough</th>\n",
       "      <th>LocationID_y</th>\n",
       "      <th>dropoff_borough</th>\n",
       "    </tr>\n",
       "  </thead>\n",
       "  <tbody>\n",
       "    <tr>\n",
       "      <th>0</th>\n",
       "      <td>2023-01-01 00:26:10</td>\n",
       "      <td>2023-01-01 00:37:11</td>\n",
       "      <td>166</td>\n",
       "      <td>143</td>\n",
       "      <td>1.0</td>\n",
       "      <td>2.58</td>\n",
       "      <td>14.9</td>\n",
       "      <td>1.0</td>\n",
       "      <td>0.5</td>\n",
       "      <td>4.03</td>\n",
       "      <td>0.0</td>\n",
       "      <td>1.0</td>\n",
       "      <td>24.18</td>\n",
       "      <td>2.75</td>\n",
       "      <td>Medium</td>\n",
       "      <td>166</td>\n",
       "      <td>Manhattan</td>\n",
       "      <td>143</td>\n",
       "      <td>Manhattan</td>\n",
       "    </tr>\n",
       "    <tr>\n",
       "      <th>1</th>\n",
       "      <td>2023-01-01 00:51:03</td>\n",
       "      <td>2023-01-01 00:57:49</td>\n",
       "      <td>24</td>\n",
       "      <td>43</td>\n",
       "      <td>1.0</td>\n",
       "      <td>1.81</td>\n",
       "      <td>10.7</td>\n",
       "      <td>1.0</td>\n",
       "      <td>0.5</td>\n",
       "      <td>2.64</td>\n",
       "      <td>0.0</td>\n",
       "      <td>1.0</td>\n",
       "      <td>15.84</td>\n",
       "      <td>0.00</td>\n",
       "      <td>Medium</td>\n",
       "      <td>24</td>\n",
       "      <td>Manhattan</td>\n",
       "      <td>43</td>\n",
       "      <td>Manhattan</td>\n",
       "    </tr>\n",
       "    <tr>\n",
       "      <th>2</th>\n",
       "      <td>2023-01-01 00:13:14</td>\n",
       "      <td>2023-01-01 00:19:03</td>\n",
       "      <td>41</td>\n",
       "      <td>238</td>\n",
       "      <td>1.0</td>\n",
       "      <td>1.30</td>\n",
       "      <td>6.5</td>\n",
       "      <td>0.5</td>\n",
       "      <td>1.5</td>\n",
       "      <td>1.70</td>\n",
       "      <td>0.0</td>\n",
       "      <td>1.0</td>\n",
       "      <td>10.20</td>\n",
       "      <td>0.00</td>\n",
       "      <td>Medium</td>\n",
       "      <td>41</td>\n",
       "      <td>Manhattan</td>\n",
       "      <td>238</td>\n",
       "      <td>Manhattan</td>\n",
       "    </tr>\n",
       "    <tr>\n",
       "      <th>3</th>\n",
       "      <td>2023-01-01 00:33:04</td>\n",
       "      <td>2023-01-01 00:39:02</td>\n",
       "      <td>41</td>\n",
       "      <td>74</td>\n",
       "      <td>1.0</td>\n",
       "      <td>1.10</td>\n",
       "      <td>6.0</td>\n",
       "      <td>0.5</td>\n",
       "      <td>1.5</td>\n",
       "      <td>0.00</td>\n",
       "      <td>0.0</td>\n",
       "      <td>1.0</td>\n",
       "      <td>8.00</td>\n",
       "      <td>0.00</td>\n",
       "      <td>Short</td>\n",
       "      <td>41</td>\n",
       "      <td>Manhattan</td>\n",
       "      <td>74</td>\n",
       "      <td>Manhattan</td>\n",
       "    </tr>\n",
       "    <tr>\n",
       "      <th>4</th>\n",
       "      <td>2023-01-01 00:53:31</td>\n",
       "      <td>2023-01-01 01:11:04</td>\n",
       "      <td>41</td>\n",
       "      <td>262</td>\n",
       "      <td>1.0</td>\n",
       "      <td>2.78</td>\n",
       "      <td>17.7</td>\n",
       "      <td>1.0</td>\n",
       "      <td>0.5</td>\n",
       "      <td>0.00</td>\n",
       "      <td>0.0</td>\n",
       "      <td>1.0</td>\n",
       "      <td>22.95</td>\n",
       "      <td>2.75</td>\n",
       "      <td>Medium</td>\n",
       "      <td>41</td>\n",
       "      <td>Manhattan</td>\n",
       "      <td>262</td>\n",
       "      <td>Manhattan</td>\n",
       "    </tr>\n",
       "  </tbody>\n",
       "</table>\n",
       "</div>"
      ],
      "text/plain": [
       "  lpep_pickup_datetime lpep_dropoff_datetime  PULocationID  DOLocationID  \\\n",
       "0  2023-01-01 00:26:10   2023-01-01 00:37:11           166           143   \n",
       "1  2023-01-01 00:51:03   2023-01-01 00:57:49            24            43   \n",
       "2  2023-01-01 00:13:14   2023-01-01 00:19:03            41           238   \n",
       "3  2023-01-01 00:33:04   2023-01-01 00:39:02            41            74   \n",
       "4  2023-01-01 00:53:31   2023-01-01 01:11:04            41           262   \n",
       "\n",
       "   passenger_count  trip_distance  fare_amount  extra  mta_tax  tip_amount  \\\n",
       "0              1.0           2.58         14.9    1.0      0.5        4.03   \n",
       "1              1.0           1.81         10.7    1.0      0.5        2.64   \n",
       "2              1.0           1.30          6.5    0.5      1.5        1.70   \n",
       "3              1.0           1.10          6.0    0.5      1.5        0.00   \n",
       "4              1.0           2.78         17.7    1.0      0.5        0.00   \n",
       "\n",
       "   tolls_amount  improvement_surcharge  total_amount  congestion_surcharge  \\\n",
       "0           0.0                    1.0         24.18                  2.75   \n",
       "1           0.0                    1.0         15.84                  0.00   \n",
       "2           0.0                    1.0         10.20                  0.00   \n",
       "3           0.0                    1.0          8.00                  0.00   \n",
       "4           0.0                    1.0         22.95                  2.75   \n",
       "\n",
       "  distance_category  LocationID_x pickup_borough  LocationID_y dropoff_borough  \n",
       "0            Medium           166      Manhattan           143       Manhattan  \n",
       "1            Medium            24      Manhattan            43       Manhattan  \n",
       "2            Medium            41      Manhattan           238       Manhattan  \n",
       "3             Short            41      Manhattan            74       Manhattan  \n",
       "4            Medium            41      Manhattan           262       Manhattan  "
      ]
     },
     "execution_count": 31,
     "metadata": {},
     "output_type": "execute_result"
    }
   ],
   "source": [
    "# memasukan data pada lookup table\n",
    "lookup_table = pd.read_csv('taxi_zone_lookup.csv')\n",
    "# menggabungkan data Pick Up Location ID menjadi Pick Up Borough\n",
    "df = pd.merge(df, lookup_table[['LocationID', 'Borough']], left_on='PULocationID', right_on='LocationID', how='left')\n",
    "df.rename(columns={'Borough': 'pickup_borough'}, inplace=True)\n",
    "# menggabungkan data Drop Off Location ID menjadi Drop Off Borough\n",
    "df = pd.merge(df, lookup_table[['LocationID', 'Borough']], left_on='DOLocationID', right_on='LocationID', how='left')\n",
    "df.rename(columns={'Borough': 'dropoff_borough'}, inplace=True)\n",
    "df.head()"
   ]
  },
  {
   "cell_type": "markdown",
   "id": "aa9158d0",
   "metadata": {},
   "source": [
    "untuk menjaga kerapihan data, untuk kolom `PULocationID` dan `DOLocationID` dapat dihapus dan dapat digantikan dengan me-rename `LocationID_x` dan `LocationID_y` menjadi masing masing `Pick_Up_ID` dan `Drop_Off_ID`."
   ]
  },
  {
   "cell_type": "code",
   "execution_count": 32,
   "id": "4371c76f",
   "metadata": {},
   "outputs": [],
   "source": [
    "# drop dan rename kolom location ID\n",
    "df.drop(columns=['PULocationID', 'DOLocationID'],inplace=True)\n",
    "df.rename(columns={'LocationID_x': 'Pick_Up_ID'}, inplace=True)\n",
    "df.rename(columns={'LocationID_y': 'Drop_Off_ID'}, inplace=True)"
   ]
  },
  {
   "cell_type": "markdown",
   "id": "08df750e",
   "metadata": {},
   "source": [
    "Hasil dari perubahan ID lokasi menjadi nama Borough terbagi menjadi 7 bagian yang jumlahnya seperti berikut:"
   ]
  },
  {
   "cell_type": "code",
   "execution_count": 33,
   "id": "eb9c602f",
   "metadata": {},
   "outputs": [
    {
     "data": {
      "text/plain": [
       "pickup_borough\n",
       "Manhattan        38678\n",
       "Queens           16683\n",
       "Brooklyn          8494\n",
       "Bronx              894\n",
       "Unknown             55\n",
       "Staten Island        9\n",
       "Name: count, dtype: int64"
      ]
     },
     "execution_count": 33,
     "metadata": {},
     "output_type": "execute_result"
    }
   ],
   "source": [
    "# cek jumlah trip per Borough\n",
    "df['pickup_borough'].value_counts()"
   ]
  },
  {
   "cell_type": "markdown",
   "id": "6a804118",
   "metadata": {},
   "source": [
    "Seperti yang kita ketahui, New York hanya terbagi menjadi 5 bagian Borough, yaitu Bronx, Queens, Brooklyn, Staten Island dan Manhattan, dan maka row yang posisi pick up pada `EWR` (yang merujuk pada *Newark Liberty International Airport*) sudah terhapus dari penghapusan sebelumnya (sebanyak 1 row).\n",
    "\n",
    "juga untuk row yang mengandung `Unknown` pada kolom `pickup_borough` akan dihapus juga, dikarenakan kesulitan untuk menentukan ID lokasi yang sesuai dengan data Unknown tersebut (sebanyak 55 row)."
   ]
  },
  {
   "cell_type": "code",
   "execution_count": 34,
   "id": "fcebc7a9",
   "metadata": {},
   "outputs": [],
   "source": [
    "df = df[df['pickup_borough'] != 'Unknown']"
   ]
  },
  {
   "cell_type": "code",
   "execution_count": 35,
   "id": "2caa5818",
   "metadata": {},
   "outputs": [
    {
     "data": {
      "text/plain": [
       "pickup_borough\n",
       "Manhattan        38678\n",
       "Queens           16683\n",
       "Brooklyn          8494\n",
       "Bronx              894\n",
       "Staten Island        9\n",
       "Name: count, dtype: int64"
      ]
     },
     "execution_count": 35,
     "metadata": {},
     "output_type": "execute_result"
    }
   ],
   "source": [
    "# cek jumlah trip per Borough\n",
    "df['pickup_borough'].value_counts()"
   ]
  },
  {
   "cell_type": "markdown",
   "id": "a38d38a1",
   "metadata": {},
   "source": [
    "## Data yang sudah bersih\n",
    "setelah data selesai dibersihkan data, berikut tampilan sekilas dari dataset bersihkan"
   ]
  },
  {
   "cell_type": "code",
   "execution_count": 36,
   "id": "44095093",
   "metadata": {},
   "outputs": [
    {
     "name": "stdout",
     "output_type": "stream",
     "text": [
      "(64758, 17)\n"
     ]
    },
    {
     "data": {
      "text/html": [
       "<div>\n",
       "<style scoped>\n",
       "    .dataframe tbody tr th:only-of-type {\n",
       "        vertical-align: middle;\n",
       "    }\n",
       "\n",
       "    .dataframe tbody tr th {\n",
       "        vertical-align: top;\n",
       "    }\n",
       "\n",
       "    .dataframe thead th {\n",
       "        text-align: right;\n",
       "    }\n",
       "</style>\n",
       "<table border=\"1\" class=\"dataframe\">\n",
       "  <thead>\n",
       "    <tr style=\"text-align: right;\">\n",
       "      <th></th>\n",
       "      <th>dataFeatures</th>\n",
       "      <th>dataType</th>\n",
       "      <th>null</th>\n",
       "      <th>unique</th>\n",
       "      <th>uniqueSample</th>\n",
       "    </tr>\n",
       "  </thead>\n",
       "  <tbody>\n",
       "    <tr>\n",
       "      <th>0</th>\n",
       "      <td>lpep_pickup_datetime</td>\n",
       "      <td>object</td>\n",
       "      <td>0</td>\n",
       "      <td>63335</td>\n",
       "      <td>[2023-01-02 16:00:08, 2023-01-28 12:04:13]</td>\n",
       "    </tr>\n",
       "    <tr>\n",
       "      <th>1</th>\n",
       "      <td>lpep_dropoff_datetime</td>\n",
       "      <td>object</td>\n",
       "      <td>0</td>\n",
       "      <td>63257</td>\n",
       "      <td>[2023-01-23 09:25:15, 2023-01-15 15:49:22]</td>\n",
       "    </tr>\n",
       "    <tr>\n",
       "      <th>2</th>\n",
       "      <td>passenger_count</td>\n",
       "      <td>float64</td>\n",
       "      <td>0</td>\n",
       "      <td>9</td>\n",
       "      <td>[2.0, 3.0]</td>\n",
       "    </tr>\n",
       "    <tr>\n",
       "      <th>3</th>\n",
       "      <td>trip_distance</td>\n",
       "      <td>float64</td>\n",
       "      <td>0</td>\n",
       "      <td>1821</td>\n",
       "      <td>[1.68, 18.74]</td>\n",
       "    </tr>\n",
       "    <tr>\n",
       "      <th>4</th>\n",
       "      <td>fare_amount</td>\n",
       "      <td>float64</td>\n",
       "      <td>0</td>\n",
       "      <td>2404</td>\n",
       "      <td>[33.19, 17.37]</td>\n",
       "    </tr>\n",
       "    <tr>\n",
       "      <th>5</th>\n",
       "      <td>extra</td>\n",
       "      <td>float64</td>\n",
       "      <td>0</td>\n",
       "      <td>12</td>\n",
       "      <td>[0.5, 1.0]</td>\n",
       "    </tr>\n",
       "    <tr>\n",
       "      <th>6</th>\n",
       "      <td>mta_tax</td>\n",
       "      <td>float64</td>\n",
       "      <td>0</td>\n",
       "      <td>4</td>\n",
       "      <td>[1.0, 0.5]</td>\n",
       "    </tr>\n",
       "    <tr>\n",
       "      <th>7</th>\n",
       "      <td>tip_amount</td>\n",
       "      <td>float64</td>\n",
       "      <td>0</td>\n",
       "      <td>1458</td>\n",
       "      <td>[6.73, 4.32]</td>\n",
       "    </tr>\n",
       "    <tr>\n",
       "      <th>8</th>\n",
       "      <td>tolls_amount</td>\n",
       "      <td>float64</td>\n",
       "      <td>0</td>\n",
       "      <td>23</td>\n",
       "      <td>[2.45, 19.3]</td>\n",
       "    </tr>\n",
       "    <tr>\n",
       "      <th>9</th>\n",
       "      <td>improvement_surcharge</td>\n",
       "      <td>float64</td>\n",
       "      <td>0</td>\n",
       "      <td>5</td>\n",
       "      <td>[-0.3, -1.0]</td>\n",
       "    </tr>\n",
       "    <tr>\n",
       "      <th>10</th>\n",
       "      <td>total_amount</td>\n",
       "      <td>float64</td>\n",
       "      <td>0</td>\n",
       "      <td>4499</td>\n",
       "      <td>[66.48, 59.25]</td>\n",
       "    </tr>\n",
       "    <tr>\n",
       "      <th>11</th>\n",
       "      <td>congestion_surcharge</td>\n",
       "      <td>float64</td>\n",
       "      <td>0</td>\n",
       "      <td>4</td>\n",
       "      <td>[2.75, 2.5]</td>\n",
       "    </tr>\n",
       "    <tr>\n",
       "      <th>12</th>\n",
       "      <td>distance_category</td>\n",
       "      <td>category</td>\n",
       "      <td>0</td>\n",
       "      <td>3</td>\n",
       "      <td>[Medium, Short]</td>\n",
       "    </tr>\n",
       "    <tr>\n",
       "      <th>13</th>\n",
       "      <td>Pick_Up_ID</td>\n",
       "      <td>int64</td>\n",
       "      <td>0</td>\n",
       "      <td>196</td>\n",
       "      <td>[119, 138]</td>\n",
       "    </tr>\n",
       "    <tr>\n",
       "      <th>14</th>\n",
       "      <td>pickup_borough</td>\n",
       "      <td>object</td>\n",
       "      <td>0</td>\n",
       "      <td>5</td>\n",
       "      <td>[Queens, Staten Island]</td>\n",
       "    </tr>\n",
       "    <tr>\n",
       "      <th>15</th>\n",
       "      <td>Drop_Off_ID</td>\n",
       "      <td>int64</td>\n",
       "      <td>0</td>\n",
       "      <td>246</td>\n",
       "      <td>[236, 75]</td>\n",
       "    </tr>\n",
       "    <tr>\n",
       "      <th>16</th>\n",
       "      <td>dropoff_borough</td>\n",
       "      <td>object</td>\n",
       "      <td>0</td>\n",
       "      <td>7</td>\n",
       "      <td>[Queens, Bronx]</td>\n",
       "    </tr>\n",
       "  </tbody>\n",
       "</table>\n",
       "</div>"
      ],
      "text/plain": [
       "             dataFeatures  dataType  null  unique  \\\n",
       "0    lpep_pickup_datetime    object     0   63335   \n",
       "1   lpep_dropoff_datetime    object     0   63257   \n",
       "2         passenger_count   float64     0       9   \n",
       "3           trip_distance   float64     0    1821   \n",
       "4             fare_amount   float64     0    2404   \n",
       "5                   extra   float64     0      12   \n",
       "6                 mta_tax   float64     0       4   \n",
       "7              tip_amount   float64     0    1458   \n",
       "8            tolls_amount   float64     0      23   \n",
       "9   improvement_surcharge   float64     0       5   \n",
       "10           total_amount   float64     0    4499   \n",
       "11   congestion_surcharge   float64     0       4   \n",
       "12      distance_category  category     0       3   \n",
       "13             Pick_Up_ID     int64     0     196   \n",
       "14         pickup_borough    object     0       5   \n",
       "15            Drop_Off_ID     int64     0     246   \n",
       "16        dropoff_borough    object     0       7   \n",
       "\n",
       "                                  uniqueSample  \n",
       "0   [2023-01-02 16:00:08, 2023-01-28 12:04:13]  \n",
       "1   [2023-01-23 09:25:15, 2023-01-15 15:49:22]  \n",
       "2                                   [2.0, 3.0]  \n",
       "3                                [1.68, 18.74]  \n",
       "4                               [33.19, 17.37]  \n",
       "5                                   [0.5, 1.0]  \n",
       "6                                   [1.0, 0.5]  \n",
       "7                                 [6.73, 4.32]  \n",
       "8                                 [2.45, 19.3]  \n",
       "9                                 [-0.3, -1.0]  \n",
       "10                              [66.48, 59.25]  \n",
       "11                                 [2.75, 2.5]  \n",
       "12                             [Medium, Short]  \n",
       "13                                  [119, 138]  \n",
       "14                     [Queens, Staten Island]  \n",
       "15                                   [236, 75]  \n",
       "16                             [Queens, Bronx]  "
      ]
     },
     "execution_count": 36,
     "metadata": {},
     "output_type": "execute_result"
    }
   ],
   "source": [
    "listItem = []\n",
    "for col in df.columns :\n",
    "    listItem.append([col, df[col].dtype, df[col].isna().sum(),\n",
    "                    df[col].nunique(), list(df[col].drop_duplicates().sample(2).values)]);\n",
    "\n",
    "dfDesc = pd.DataFrame(columns=['dataFeatures', 'dataType', 'null', 'unique', 'uniqueSample'],\n",
    "                     data=listItem)\n",
    "print(df.shape)\n",
    "dfDesc"
   ]
  },
  {
   "cell_type": "markdown",
   "id": "64856f90",
   "metadata": {},
   "source": [
    "sebelum data dibersihkan data memiliki 20 kolom yang beberapa kolom diantaranya memiliki missing value, dan setelah data dibersihkan kolom berjumlah **17 kolom** yang juga ditambahkan beberapa kolom tambahan, sedangkan jumlah baris menjadi **64.758 baris** yang dari awalnya 68.211 baris."
   ]
  },
  {
   "cell_type": "markdown",
   "id": "ae3e1fc6",
   "metadata": {},
   "source": [
    "# Data Analysis\n",
    "Setelah data dibersihkan, sekarang kita dapat menggunakan dataset untuk menjawab pertanyaan pada rumusan masalah berikut, yaitu:\n",
    "***\n",
    "**1. Kapan Taksi paling banyak digunakan?**\n",
    "\n",
    "untuk mendapatkan hasil analisis persoalan ke-1, maka akan dibandingkan pada hari apa dan jam berapa penumpang di pickup dengan jumlah trip.\n",
    "***\n",
    "**2. Di daerah mana Taksi paling banyak digunakan?**\n",
    "\n",
    "sedangkan untuk persoalan ke-2, akan dibandingkan dimana penumpang di pickup dengan jumlah trip.\n",
    "***\n",
    "**3. Berapa rata-rata Pendapatan taksi per daerah?**\n",
    "\n",
    "dan untuk persoalan ke-3, akan dibandingkan rata-rata total_amount dengan lokasi penjemputan. "
   ]
  },
  {
   "cell_type": "markdown",
   "id": "81bffbeb",
   "metadata": {},
   "source": [
    "## Waktu penggunaan taksi paling banyak"
   ]
  },
  {
   "cell_type": "code",
   "execution_count": 542,
   "id": "2fdd0ed8",
   "metadata": {},
   "outputs": [
    {
     "data": {
      "text/plain": [
       "pickup_hour\n",
       "0     1060\n",
       "1      835\n",
       "2      597\n",
       "3      535\n",
       "4      395\n",
       "5      380\n",
       "6      918\n",
       "7     2509\n",
       "8     3066\n",
       "9     3340\n",
       "10    3441\n",
       "11    3514\n",
       "12    3558\n",
       "13    3782\n",
       "14    4173\n",
       "15    4858\n",
       "16    4993\n",
       "17    5013\n",
       "18    5071\n",
       "19    4048\n",
       "20    3106\n",
       "21    2300\n",
       "22    1822\n",
       "23    1444\n",
       "Name: count, dtype: int64"
      ]
     },
     "execution_count": 542,
     "metadata": {},
     "output_type": "execute_result"
    }
   ],
   "source": [
    "# Mengubah format pickup datetime menjadi jam pickup\n",
    "df['lpep_pickup_datetime'] = pd.to_datetime(df['lpep_pickup_datetime'])\n",
    "df['pickup_hour'] = df['lpep_pickup_datetime'].dt.hour\n",
    "\n",
    "# Jumlah pickup per jam selama bulan Januari 2023\n",
    "df['pickup_hour'].value_counts().sort_index()"
   ]
  },
  {
   "cell_type": "code",
   "execution_count": 550,
   "id": "9af35850",
   "metadata": {},
   "outputs": [
    {
     "data": {
      "image/png": "[encoded data removed]",
      "text/plain": [
       "<Figure size 1000x600 with 1 Axes>"
      ]
     },
     "metadata": {},
     "output_type": "display_data"
    }
   ],
   "source": [
    "plt.figure(figsize=(10, 6))\n",
    "sns.histplot(df['pickup_hour'], bins=range(0, 24), discrete=True, color='#FFD700')\n",
    "plt.title(\"Jumlah Trip berdasarkan Jam Penjemputan\")\n",
    "plt.xlabel('Jam Penjemputan')\n",
    "plt.ylabel('Jumlah Trip')\n",
    "plt.xticks(range(0, 24))\n",
    "plt.show()"
   ]
  },
  {
   "cell_type": "code",
   "execution_count": null,
   "id": "da57e6b0",
   "metadata": {},
   "outputs": [],
   "source": [
    "# membuat table pivot untuk stackbar jam penjemputan\n",
    "pivot_df = df.pivot_table(index='pickup_hour', columns='distance_category', aggfunc='size', fill_value=0)"
   ]
  },
  {
   "cell_type": "code",
   "execution_count": 555,
   "id": "474aabcd",
   "metadata": {},
   "outputs": [
    {
     "data": {
      "text/plain": [
       "<Figure size 1000x600 with 0 Axes>"
      ]
     },
     "metadata": {},
     "output_type": "display_data"
    },
    {
     "data": {
      "image/png": "[encoded data removed]",
      "text/plain": [
       "<Figure size 640x480 with 1 Axes>"
      ]
     },
     "metadata": {},
     "output_type": "display_data"
    }
   ],
   "source": [
    "# membuat Stackbar untuk membandingkan dengan banyaknya tiap kategori perjalanan\n",
    "plt.figure(figsize=(10, 6))\n",
    "pivot_df.plot(kind='bar', stacked=True)\n",
    "\n",
    "plt.title('Jumlah Trip berdasarkan Jam Penjemputan dan Kategori Perjalanan')\n",
    "plt.xlabel('Jam Penjemputan')\n",
    "plt.ylabel('Jumlah Trip')\n",
    "plt.legend(title='Kategori Perjalanan', loc='upper left')\n",
    "plt.xticks(rotation = 0)\n",
    "plt.show()"
   ]
  },
  {
   "cell_type": "markdown",
   "id": "0aff1fd7",
   "metadata": {},
   "source": [
    "Berdasarkan histogram dan stackbar diatas dapat terlihat bahwa jumlah trip meningkat pesat pada **pukul 7** dan terus meningkat hingga **pukul 18**, dan di dominasi perjalanan dengan kategori **Medium**."
   ]
  },
  {
   "cell_type": "code",
   "execution_count": 560,
   "id": "b984cc89",
   "metadata": {},
   "outputs": [
    {
     "data": {
      "text/plain": [
       "pickup_day\n",
       "1     1392\n",
       "2     1491\n",
       "3     2007\n",
       "4     2255\n",
       "5     2295\n",
       "6     2424\n",
       "7     2041\n",
       "8     1560\n",
       "9     2096\n",
       "10    2059\n",
       "11    2332\n",
       "12    2394\n",
       "13    2420\n",
       "14    2046\n",
       "15    1675\n",
       "16    1506\n",
       "17    2136\n",
       "18    2224\n",
       "19    2506\n",
       "20    2367\n",
       "21    2058\n",
       "22    1710\n",
       "23    2261\n",
       "24    2269\n",
       "25    2549\n",
       "26    2501\n",
       "27    2322\n",
       "28    1949\n",
       "29    1577\n",
       "30    2129\n",
       "31    2207\n",
       "Name: count, dtype: int64"
      ]
     },
     "execution_count": 560,
     "metadata": {},
     "output_type": "execute_result"
    }
   ],
   "source": [
    "# Mengubah format pickup datetime menjadi jam pickup\n",
    "df['lpep_pickup_datetime'] = pd.to_datetime(df['lpep_pickup_datetime'])\n",
    "df['pickup_day'] = df['lpep_pickup_datetime'].dt.day\n",
    "\n",
    "# Jumlah pickup per jam selama bulan Januari 2023\n",
    "df['pickup_day'].value_counts().sort_index()"
   ]
  },
  {
   "cell_type": "code",
   "execution_count": 561,
   "id": "0b47fbf5",
   "metadata": {},
   "outputs": [
    {
     "data": {
      "image/png": "[encoded data removed]",
      "text/plain": [
       "<Figure size 1000x600 with 1 Axes>"
      ]
     },
     "metadata": {},
     "output_type": "display_data"
    }
   ],
   "source": [
    "plt.figure(figsize=(10, 6))\n",
    "sns.histplot(df['pickup_day'], bins=range(0, 31), discrete=True, color='#FFD700')\n",
    "plt.title(\"Histogram Jumlah Trip berdasarkan Tanggal Penjemputan\")\n",
    "plt.xlabel('Tanggal Penjemputan')\n",
    "plt.ylabel('Jumlah Trip')\n",
    "plt.xticks(range(1, 32))\n",
    "plt.show()"
   ]
  },
  {
   "cell_type": "code",
   "execution_count": 564,
   "id": "d2d4b747",
   "metadata": {},
   "outputs": [],
   "source": [
    "# membuat table pivot untuk stackbar hari penjemputan\n",
    "pivot_df = df.pivot_table(index='pickup_day', columns='distance_category', aggfunc='size', fill_value=0)"
   ]
  },
  {
   "cell_type": "code",
   "execution_count": 569,
   "id": "1018b8ae",
   "metadata": {},
   "outputs": [
    {
     "data": {
      "text/plain": [
       "<Figure size 1000x600 with 0 Axes>"
      ]
     },
     "metadata": {},
     "output_type": "display_data"
    },
    {
     "data": {
      "image/png": "[encoded data removed]",
      "text/plain": [
       "<Figure size 640x480 with 1 Axes>"
      ]
     },
     "metadata": {},
     "output_type": "display_data"
    }
   ],
   "source": [
    "# membuat Stackbar untuk membandingkan dengan banyaknya tiap kategori perjalanan\n",
    "plt.figure(figsize=(10, 6))\n",
    "pivot_df.plot(kind='bar', stacked=True)\n",
    "\n",
    "plt.title('Jumlah Trip berdasarkan Jam Penjemputan dan Kategori Perjalanan')\n",
    "plt.xlabel('Jam Penjemputan')\n",
    "plt.ylabel('Jumlah Trip')\n",
    "plt.legend(title='Kategori Perjalanan',bbox_to_anchor=(1, 1))\n",
    "plt.xticks(rotation = 45)\n",
    "plt.show()"
   ]
  },
  {
   "cell_type": "markdown",
   "id": "c82c2092",
   "metadata": {},
   "source": [
    "Terlihat pada Histogram diatas bahwa terdapat **trend yang berulang** pada tanggal di setiap minggunya, oleh karena itu mari kita lihat jika tanggal **dikelompokan pada nama hari** nya, dan untuk kategori perjalanan tetap tersebar secara merata pada setiap tanggal."
   ]
  },
  {
   "cell_type": "code",
   "execution_count": 39,
   "id": "320df4fb",
   "metadata": {},
   "outputs": [
    {
     "data": {
      "text/plain": [
       "pickup_day_name\n",
       "Friday        9535\n",
       "Monday        9481\n",
       "Saturday      8094\n",
       "Sunday        7912\n",
       "Thursday      9697\n",
       "Tuesday      10678\n",
       "Wednesday     9361\n",
       "Name: count, dtype: int64"
      ]
     },
     "execution_count": 39,
     "metadata": {},
     "output_type": "execute_result"
    }
   ],
   "source": [
    "# Mengubah format pickup datetime menjadi jam pickup\n",
    "df['lpep_pickup_datetime'] = pd.to_datetime(df['lpep_pickup_datetime'])\n",
    "df['pickup_day_name'] = df['lpep_pickup_datetime'].dt.day_name()\n",
    "\n",
    "# Jumlah pickup per jam selama bulan Januari 2023\n",
    "df['pickup_day_name'].value_counts().sort_index()"
   ]
  },
  {
   "cell_type": "code",
   "execution_count": 40,
   "id": "8f9918b1",
   "metadata": {},
   "outputs": [
    {
     "data": {
      "text/plain": [
       "9251.142857142857"
      ]
     },
     "execution_count": 40,
     "metadata": {},
     "output_type": "execute_result"
    }
   ],
   "source": [
    "# rata-rata perjalanan per nama hari\n",
    "average_value = df['pickup_day_name'].value_counts().mean()\n",
    "average_value"
   ]
  },
  {
   "cell_type": "code",
   "execution_count": 42,
   "id": "c9c59543",
   "metadata": {},
   "outputs": [
    {
     "data": {
      "image/png": "[encoded data removed]",
      "text/plain": [
       "<Figure size 1000x1000 with 1 Axes>"
      ]
     },
     "metadata": {},
     "output_type": "display_data"
    }
   ],
   "source": [
    "plt.figure(figsize=(10, 10))\n",
    "sns.histplot(df['pickup_day_name'], bins=range(0, 7), discrete=True, color='#FFD700')\n",
    "plt.axhline(y=average_value, color='blue', linestyle='dashed', linewidth=2, label='Rata-rata = 9.251 trip')\n",
    "plt.title(\"Histogram Jumlah Trip berdasarkan Nama Hari Penjemputan\")\n",
    "plt.xlabel('Nama Hari Penjemputan')\n",
    "plt.ylabel('Jumlah Trip')\n",
    "plt.xticks(range(0, 7), rotation = 45)\n",
    "plt.legend()\n",
    "plt.show()"
   ]
  },
  {
   "cell_type": "markdown",
   "id": "8735fbca",
   "metadata": {},
   "source": [
    "Pada histogram diatas terlihat jelas bahwa penumpang memiliki kecenderungan yang tinggi diatas rata-rata untuk menaiki taksi pada **hari Selasa**, dan cenderung rendah dan dibawah rata-rata pada hari Minggu dan Sabtu."
   ]
  },
  {
   "cell_type": "markdown",
   "id": "3587e714",
   "metadata": {},
   "source": [
    "## Lokasi penggunaan taksi paling banyak"
   ]
  },
  {
   "cell_type": "code",
   "execution_count": 431,
   "id": "e7f73b2b",
   "metadata": {},
   "outputs": [
    {
     "data": {
      "text/plain": [
       "pickup_borough\n",
       "Manhattan        38678\n",
       "Queens           16683\n",
       "Brooklyn          8494\n",
       "Bronx              894\n",
       "Staten Island        9\n",
       "Name: count, dtype: int64"
      ]
     },
     "execution_count": 431,
     "metadata": {},
     "output_type": "execute_result"
    }
   ],
   "source": [
    "# Jumlah pickup per Borough selama bulan Januari 2023\n",
    "df['pickup_borough'].value_counts()"
   ]
  },
  {
   "cell_type": "code",
   "execution_count": 432,
   "id": "016b142b",
   "metadata": {},
   "outputs": [
    {
     "data": {
      "image/png": "[encoded data removed]",
      "text/plain": [
       "<Figure size 1000x600 with 1 Axes>"
      ]
     },
     "metadata": {},
     "output_type": "display_data"
    }
   ],
   "source": [
    "plt.figure(figsize=(10, 6))\n",
    "sns.histplot(df['pickup_borough'], color='#FFD700')\n",
    "plt.title(\"Histogram Jumlah Trip berdasarkan Lokasi Penjemputan\")\n",
    "plt.xlabel('Borough')\n",
    "plt.ylabel('Jumlah Trip')\n",
    "plt.show()"
   ]
  },
  {
   "cell_type": "markdown",
   "id": "c84a334e",
   "metadata": {},
   "source": [
    "Berdasarkan histogram diatas dapat terlihat bahwa jumlah trip pada **Borough Manhattan** sangat tinggi (sebanyak 39.436 perjalanan) dibandingkan borough-borough lainnya, yaitu Borough Queens di posisi ke-2 (17991 perjalanan), dan Borough Brooklyn pada posisi ke-3 (9.336 perjalanan)."
   ]
  },
  {
   "cell_type": "markdown",
   "id": "9327ec82",
   "metadata": {},
   "source": [
    "## Pendapatan rata-rata pada tiap Borough\n",
    "\n",
    "Jika melihat pada data jumlah perjalanan per Borough diatas maka akan jelas bahwa Borough manhattan akan memiliki total Pendapatan paling tinggi dibandingkan dengan keempat borough lainnya.\n",
    "\n",
    "akan tetapi, apakah rata-rata pendapatannya akan tetap lebih tinggi?"
   ]
  },
  {
   "cell_type": "code",
   "execution_count": 433,
   "id": "bf1f42ed",
   "metadata": {},
   "outputs": [
    {
     "data": {
      "text/plain": [
       "pickup_borough\n",
       "Brooklyn         26.289091\n",
       "Staten Island    25.378889\n",
       "Bronx            23.859116\n",
       "Queens           21.904542\n",
       "Manhattan        20.591348\n",
       "Name: total_amount, dtype: float64"
      ]
     },
     "execution_count": 433,
     "metadata": {},
     "output_type": "execute_result"
    }
   ],
   "source": [
    "# rata-rata pendapatan tiap Borough\n",
    "avg_total_amount_by_borough = df.groupby('pickup_borough')['total_amount'].mean().sort_values(ascending=False)\n",
    "avg_total_amount_by_borough"
   ]
  },
  {
   "cell_type": "code",
   "execution_count": 434,
   "id": "bf129763",
   "metadata": {},
   "outputs": [
    {
     "data": {
      "image/png": "[encoded data removed]",
      "text/plain": [
       "<Figure size 1000x600 with 1 Axes>"
      ]
     },
     "metadata": {},
     "output_type": "display_data"
    }
   ],
   "source": [
    "plt.figure(figsize=(10, 6))\n",
    "avg_total_amount_by_borough.plot(kind='bar', color='#FFD700')\n",
    "plt.title('Rata-rata Pendapatan berdasarkan Borough')\n",
    "plt.xlabel('Borough')\n",
    "plt.ylabel('Rata-rata Pendapatan')\n",
    "plt.xticks(rotation=45)\n",
    "plt.show()"
   ]
  },
  {
   "cell_type": "markdown",
   "id": "48697ea5",
   "metadata": {},
   "source": [
    "Pada histogram diatas jadi terlihat jelas bahwa Borough Manhattan yang memiliki jumlah perjalanan paling tinggi, ternyata memiliki rata-rata pendapatan yang paling rendah dibandingkan daerah lainnya (sekitar 20,59$ per perjalanan).\n",
    "\n",
    "**Rata-rata pendapatan tertinggi** diperoleh di Borough Brooklyn dengan 26.28$ per perjalanan, hal ini bagus mengingat daerah Brooklyn menduduki urutan ke-3 untuk jumlah perjalanan dalam satu bulan.\n",
    "\n",
    "Sedangkan Staten Island yang memiliki jumlah perjalanan paling sedikit memiliki rata-rata pendapatan perjalanan kedua tertinggi, yaitu 25,37$ per perjalanan. Hal ini dimungkinkan karena Staten Island memiliki data trip yang sangat sedikit sekali (9 trip) dibandingkan daerah-daerah lainnya."
   ]
  },
  {
   "cell_type": "code",
   "execution_count": 435,
   "id": "9a0bda3e",
   "metadata": {},
   "outputs": [
    {
     "data": {
      "text/plain": [
       "pickup_borough\n",
       "Manhattan        59.726984\n",
       "Queens           25.762068\n",
       "Brooklyn         13.116526\n",
       "Bronx             1.380524\n",
       "Staten Island     0.013898\n",
       "Name: count, dtype: float64"
      ]
     },
     "execution_count": 435,
     "metadata": {},
     "output_type": "execute_result"
    }
   ],
   "source": [
    "# persentase perjalanan pada tiap Borough pada bulan Januari 2023\n",
    "df['pickup_borough'].value_counts() / len(df['pickup_borough']) * 100"
   ]
  },
  {
   "cell_type": "markdown",
   "id": "1bbb86e9",
   "metadata": {},
   "source": [
    "Terlihat pada persentase diatas bahwa trip di Staten Island hanya 0,013% dari jumlah keseluruhan perjalanan Taksi di bulan Januari 2023, dan kemungkinan besar bahwa rata-rata pendapatannya tidak akan jauh berbeda dari borough-borough lainnya jika Staten Island memiliki jumlah perjalanan sebanyak daerah lainnya (masih sekitar 25$ per perjalanan)."
   ]
  },
  {
   "cell_type": "markdown",
   "id": "33b0b88b",
   "metadata": {},
   "source": [
    "## Jumlah dan Rata-rata Tips pada tiap Borough\n",
    "\n",
    "uang tips merupakan kebiasaan umum yang dapat memengaruhi pendapatan para pengemudi taksi, oleh karena itu penting juga untuk melihat daerah mana saja yang banyak memberikan uang tips dan rata-rata jumlahnya.\n",
    "\n",
    "untuk jumlah uang tips diperkirakan akan sebanding dengan jumlah perjalanan pada tiap Borough, yang berarti Borough Manhattan seharusnya memiliki Jumlah uang tips terbanyak diantara semua daerah."
   ]
  },
  {
   "cell_type": "code",
   "execution_count": 436,
   "id": "157e6478",
   "metadata": {},
   "outputs": [
    {
     "data": {
      "text/plain": [
       "pickup_borough\n",
       "Manhattan        88327.52\n",
       "Queens           27399.59\n",
       "Brooklyn         25563.21\n",
       "Bronx              850.34\n",
       "Staten Island       12.26\n",
       "Name: tip_amount, dtype: float64"
      ]
     },
     "execution_count": 436,
     "metadata": {},
     "output_type": "execute_result"
    }
   ],
   "source": [
    "# Jumlah uang tips tiap Borough\n",
    "sum_tip_amount_by_borough = df.groupby('pickup_borough')['tip_amount'].sum().sort_values(ascending=False)\n",
    "sum_tip_amount_by_borough"
   ]
  },
  {
   "cell_type": "code",
   "execution_count": 437,
   "id": "ea2d212c",
   "metadata": {},
   "outputs": [
    {
     "data": {
      "image/png": "[encoded data removed]",
      "text/plain": [
       "<Figure size 1000x600 with 1 Axes>"
      ]
     },
     "metadata": {},
     "output_type": "display_data"
    }
   ],
   "source": [
    "plt.figure(figsize=(10, 6))\n",
    "sum_tip_amount_by_borough.plot(kind='bar', color='#FFD700')\n",
    "plt.title('Jumlah uang tips tiap Borough')\n",
    "plt.xlabel('Borough')\n",
    "plt.ylabel('Jumlah Tips')\n",
    "plt.xticks(rotation=45)\n",
    "plt.show()"
   ]
  },
  {
   "cell_type": "markdown",
   "id": "344e3ee2",
   "metadata": {},
   "source": [
    "Sesuai dengan perkiraan bahwa Jumlah uang Tips yang diberikan di Manhattan memiliki jumlah paling banyak yang sebanding dengan jumlah perjalanan yang banyak pula di Borough tersebut. \n",
    "\n",
    "Mari kita lihat rata-rata uang tips yang diberikan, apakah Manhattan masih paling tinggi?"
   ]
  },
  {
   "cell_type": "code",
   "execution_count": 438,
   "id": "d3c54e48",
   "metadata": {},
   "outputs": [
    {
     "data": {
      "text/plain": [
       "pickup_borough\n",
       "Brooklyn         3.009561\n",
       "Manhattan        2.283663\n",
       "Queens           1.642366\n",
       "Staten Island    1.362222\n",
       "Bronx            0.951163\n",
       "Name: tip_amount, dtype: float64"
      ]
     },
     "execution_count": 438,
     "metadata": {},
     "output_type": "execute_result"
    }
   ],
   "source": [
    "# rata-rata Jumlah uang tips tiap Borough\n",
    "avg_tip_amount_by_borough = df.groupby('pickup_borough')['tip_amount'].mean().sort_values(ascending=False)\n",
    "avg_tip_amount_by_borough"
   ]
  },
  {
   "cell_type": "code",
   "execution_count": 439,
   "id": "09bada94",
   "metadata": {},
   "outputs": [
    {
     "data": {
      "image/png": "[encoded data removed]",
      "text/plain": [
       "<Figure size 1000x600 with 1 Axes>"
      ]
     },
     "metadata": {},
     "output_type": "display_data"
    }
   ],
   "source": [
    "plt.figure(figsize=(10, 6))\n",
    "avg_tip_amount_by_borough.plot(kind='bar', color='#FFD700')\n",
    "plt.title('Rata-rata uang tips tiap Borough')\n",
    "plt.xlabel('Borough')\n",
    "plt.ylabel('Rata-rata Tips')\n",
    "plt.xticks(rotation=45)\n",
    "plt.show()"
   ]
  },
  {
   "cell_type": "markdown",
   "id": "85aa9f52",
   "metadata": {},
   "source": [
    "Pada histogram diatas terlihat bahwa Borough Brooklyn memberikan uang tips paling besar, yaitu sebesar **3,00\\$** per perjalanan, hal ini dapat menjelaskan mengapa Borough Brooklyn dapat menduduki urutan pertama dalam rata-rata pendapatan per perjalanan.\n",
    "\n",
    "dan Manhattan berada diposisi kedua dengan besar uang tips 2,28\\$ per perjalanan, yang tidak buruk mengingat bahwa Manhattan memiliki kuantitas perjalanan terbanyak dibandingkan daerah lainnya."
   ]
  },
  {
   "cell_type": "markdown",
   "id": "c8ab990a",
   "metadata": {},
   "source": [
    "# Kesimpulan dan Rekomendasi \n",
    "\n",
    "## Kesimpulan\n",
    "Dari analisis diatas, kita bisa membuat kesimpulan bahwa:\n",
    "* Pukul 7 hingga pukul 18 adalah waktu tersibuk; \n",
    "* Hari Selasa memiliki jumlah perjalanan yang tinggi dan diatas rata-rata;\n",
    "* Borough Manhattan memiliki jumlah trip yang sangat tinggi dibandingkan dengan daerah lainnya (59,72%);\n",
    "* Daerah Brooklyn memiliki rata-rata pendapatan tertinggi yaitu (26.28$);\n",
    "\n",
    "* Daerah Brooklyn juga memberikan rata-rata uang tips tertinggi yaitu 2,81$ per perjalanan;\n",
    "\n",
    "* Borough Staten Island memiliki rata-rata pendapatan kedua tertinggi dengan jumlah 25,37$ , walaupun memiliki jumlah perjalanan yang sangat sedikit (9 perjalanan);\n",
    "* Sesuai dengan banyaknya perjalanan, Jumlah uang tips di daerah Manhattan memiliki jumlah terbanyak dan memiliki rata-rata kedua terbanyak (2,26\\$ per perjalanan)."
   ]
  },
  {
   "cell_type": "markdown",
   "id": "dd44798f",
   "metadata": {},
   "source": [
    "## Rekomendasi\n",
    "1. Pengemudi taksi diarahkan untuk bekerja pada jam-jam dan hari sibuk yaitu sekitar pukul 7 hingga 18 dan terutama pada hari Selasa.\n",
    "1. Penyedia jasa layanan taksi juga mengarahkan pada daerah-daerah dengan permintaan tinggi yaitu Borough Manhattan, pada waktu tersibuk.\n",
    "1. Dilakukan promosi yang agresif pada daerah-daerah dengan peminatan taksi yang sedikit yaitu Staten Island dan Brooklyn dimana masih banyak peluang pasar yang masih bisa dimaksimalkan sehingga dapat membuka peluang baru untuk mendapatkan pelanggan baru pada daerah tersebut. "
   ]
  },
  {
   "cell_type": "markdown",
   "id": "22ea2782",
   "metadata": {},
   "source": [
    "Besar harapan tim analyst bahwa analisis ini dapat memberikan insight baru akan bagaimana penyedia layanan taksi di New York dapat meningkatkan layanan dan industrinya."
   ]
  }
 ],
 "metadata": {
  "kernelspec": {
   "display_name": "Python 3 (ipykernel)",
   "language": "python",
   "name": "python3"
  },
  "language_info": {
   "codemirror_mode": {
    "name": "ipython",
    "version": 3
   },
   "file_extension": ".py",
   "mimetype": "text/x-python",
   "name": "python",
   "nbconvert_exporter": "python",
   "pygments_lexer": "ipython3",
   "version": "3.11.5"
  }
 },
 "nbformat": 4,
 "nbformat_minor": 5
}
